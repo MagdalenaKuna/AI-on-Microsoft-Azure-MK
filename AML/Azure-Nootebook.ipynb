{
 "cells": [
  {
   "cell_type": "markdown",
   "metadata": {},
   "source": [
    "# Notebook rozwiązauje prosty problem klasyfikacji gatunków irysów\n",
    "\n",
    "Założeniem zadanie jest wytrenowanie modelów i wybranie najlepszego dla nas opcji przy użyciu usługi Azure Machine Learning, które mają za zadanie klasyfikować, który to gatunek irysa"
   ]
  },
  {
   "cell_type": "markdown",
   "metadata": {},
   "source": [
    "Jak wspomniałam, użyjemy tutaj portalu Azure, więc początkowo posiadając już subskrypcję na stronie portal.azure.com należy postawić zasób Machine Learning, a następnie się do niego podłączyć. \n",
    "\n",
    "Poniżej pokazano możliwość podłączenia się do zasobu. Należy przy użyciu specjalnej biblioteki azureml zaimportować odpowiednie funkcje, dzięki którym połączymy sie z zasobem oraz danymi, które także są w chmurze - zasób Blob Storage. Należy takze podać subskrypcje, resource group (ponieważ każdy projekt musi mieć własną resource group) oraz nazwę naszego projektu."
   ]
  },
  {
   "cell_type": "code",
   "execution_count": 3,
   "metadata": {},
   "outputs": [
    {
     "data": {
      "text/html": [
       "<div>\n",
       "<style scoped>\n",
       "    .dataframe tbody tr th:only-of-type {\n",
       "        vertical-align: middle;\n",
       "    }\n",
       "\n",
       "    .dataframe tbody tr th {\n",
       "        vertical-align: top;\n",
       "    }\n",
       "\n",
       "    .dataframe thead th {\n",
       "        text-align: right;\n",
       "    }\n",
       "</style>\n",
       "<table border=\"1\" class=\"dataframe\">\n",
       "  <thead>\n",
       "    <tr style=\"text-align: right;\">\n",
       "      <th></th>\n",
       "      <th>petal_length</th>\n",
       "      <th>petal_width</th>\n",
       "      <th>sepal_length</th>\n",
       "      <th>sepal_width</th>\n",
       "      <th>label</th>\n",
       "    </tr>\n",
       "  </thead>\n",
       "  <tbody>\n",
       "    <tr>\n",
       "      <th>0</th>\n",
       "      <td>5.1</td>\n",
       "      <td>3.5</td>\n",
       "      <td>1.4</td>\n",
       "      <td>0.2</td>\n",
       "      <td>Iris-setosa</td>\n",
       "    </tr>\n",
       "    <tr>\n",
       "      <th>1</th>\n",
       "      <td>4.9</td>\n",
       "      <td>3.0</td>\n",
       "      <td>1.4</td>\n",
       "      <td>0.2</td>\n",
       "      <td>Iris-setosa</td>\n",
       "    </tr>\n",
       "    <tr>\n",
       "      <th>2</th>\n",
       "      <td>4.7</td>\n",
       "      <td>3.2</td>\n",
       "      <td>1.3</td>\n",
       "      <td>0.2</td>\n",
       "      <td>Iris-setosa</td>\n",
       "    </tr>\n",
       "    <tr>\n",
       "      <th>3</th>\n",
       "      <td>4.6</td>\n",
       "      <td>3.1</td>\n",
       "      <td>1.5</td>\n",
       "      <td>0.2</td>\n",
       "      <td>Iris-setosa</td>\n",
       "    </tr>\n",
       "    <tr>\n",
       "      <th>4</th>\n",
       "      <td>5.0</td>\n",
       "      <td>3.6</td>\n",
       "      <td>1.4</td>\n",
       "      <td>0.2</td>\n",
       "      <td>Iris-setosa</td>\n",
       "    </tr>\n",
       "    <tr>\n",
       "      <th>...</th>\n",
       "      <td>...</td>\n",
       "      <td>...</td>\n",
       "      <td>...</td>\n",
       "      <td>...</td>\n",
       "      <td>...</td>\n",
       "    </tr>\n",
       "    <tr>\n",
       "      <th>145</th>\n",
       "      <td>6.7</td>\n",
       "      <td>3.0</td>\n",
       "      <td>5.2</td>\n",
       "      <td>2.3</td>\n",
       "      <td>Iris-virginica</td>\n",
       "    </tr>\n",
       "    <tr>\n",
       "      <th>146</th>\n",
       "      <td>6.3</td>\n",
       "      <td>2.5</td>\n",
       "      <td>5.0</td>\n",
       "      <td>1.9</td>\n",
       "      <td>Iris-virginica</td>\n",
       "    </tr>\n",
       "    <tr>\n",
       "      <th>147</th>\n",
       "      <td>6.5</td>\n",
       "      <td>3.0</td>\n",
       "      <td>5.2</td>\n",
       "      <td>2.0</td>\n",
       "      <td>Iris-virginica</td>\n",
       "    </tr>\n",
       "    <tr>\n",
       "      <th>148</th>\n",
       "      <td>6.2</td>\n",
       "      <td>3.4</td>\n",
       "      <td>5.4</td>\n",
       "      <td>2.3</td>\n",
       "      <td>Iris-virginica</td>\n",
       "    </tr>\n",
       "    <tr>\n",
       "      <th>149</th>\n",
       "      <td>5.9</td>\n",
       "      <td>3.0</td>\n",
       "      <td>5.1</td>\n",
       "      <td>1.8</td>\n",
       "      <td>Iris-virginica</td>\n",
       "    </tr>\n",
       "  </tbody>\n",
       "</table>\n",
       "<p>150 rows × 5 columns</p>\n",
       "</div>"
      ],
      "text/plain": [
       "     petal_length  petal_width  sepal_length  sepal_width           label\n",
       "0             5.1          3.5           1.4          0.2     Iris-setosa\n",
       "1             4.9          3.0           1.4          0.2     Iris-setosa\n",
       "2             4.7          3.2           1.3          0.2     Iris-setosa\n",
       "3             4.6          3.1           1.5          0.2     Iris-setosa\n",
       "4             5.0          3.6           1.4          0.2     Iris-setosa\n",
       "..            ...          ...           ...          ...             ...\n",
       "145           6.7          3.0           5.2          2.3  Iris-virginica\n",
       "146           6.3          2.5           5.0          1.9  Iris-virginica\n",
       "147           6.5          3.0           5.2          2.0  Iris-virginica\n",
       "148           6.2          3.4           5.4          2.3  Iris-virginica\n",
       "149           5.9          3.0           5.1          1.8  Iris-virginica\n",
       "\n",
       "[150 rows x 5 columns]"
      ]
     },
     "execution_count": 3,
     "metadata": {},
     "output_type": "execute_result"
    }
   ],
   "source": [
    "# azureml-core of version 1.0.72 or higher is required\n",
    "# azureml-dataprep[pandas] of version 1.1.34 or higher is required\n",
    "from azureml.core import Workspace, Dataset\n",
    "\n",
    "subscription_id = '03d60a7f-8a1f-4aa2-8e20-3f45e41abc75'\n",
    "resource_group = 'aml-classification'\n",
    "workspace_name = 'chmury-aml'\n",
    "\n",
    "workspace = Workspace(subscription_id, resource_group, workspace_name)\n",
    "\n",
    "dataset = Dataset.get_by_name(workspace, name='iris')\n",
    "dataset.to_pandas_dataframe()"
   ]
  },
  {
   "cell_type": "markdown",
   "metadata": {},
   "source": [
    "Aby ocenić jakoś naszego modelu należy go przetestować, dlatego nasz zbiór podzielimy na dane uczace i testujące w proporcjach 70% - uczące, 30% - testujące. Dobrą praktyka jest także wydzielenie danych walidacyjnych, jednak dla naszego tutaj prostego zadania nie są one wymagane."
   ]
  },
  {
   "cell_type": "code",
   "execution_count": 11,
   "metadata": {},
   "outputs": [
    {
     "name": "stdout",
     "output_type": "stream",
     "text": [
      "       petal_length  petal_width  sepal_length  sepal_width\n",
      "count    110.000000   110.000000    110.000000   110.000000\n",
      "mean       5.830000     3.016364      3.740909     1.178182\n",
      "std        0.792343     0.424594      1.694367     0.725724\n",
      "min        4.300000     2.000000      1.100000     0.100000\n",
      "25%        5.100000     2.800000      1.600000     0.325000\n",
      "50%        5.750000     3.000000      4.300000     1.300000\n",
      "75%        6.400000     3.200000      5.000000     1.800000\n",
      "max        7.700000     4.100000      6.700000     2.400000\n"
     ]
    }
   ],
   "source": [
    "train_dataset, test_dataset = dataset.random_split(0.7, seed=1)\n",
    "train_dataset_df = train_dataset.to_pandas_dataframe()\n",
    "test_dataset_df = test_dataset.to_pandas_dataframe()\n",
    "\n",
    "print(train_dataset_df.describe())"
   ]
  },
  {
   "cell_type": "markdown",
   "metadata": {},
   "source": [
    "Dalej potrzebna będzie nam nazwa stworzonego klastra, na którym będziemy obliczać nasze modele. Aby się nie pomylić wyświetlimy dostępne klastry na naszym zasobie."
   ]
  },
  {
   "cell_type": "code",
   "execution_count": 6,
   "metadata": {},
   "outputs": [
    {
     "data": {
      "text/plain": [
       "[AmlCompute(workspace=Workspace.create(name='chmury-aml', subscription_id='03d60a7f-8a1f-4aa2-8e20-3f45e41abc75', resource_group='aml-classification'), name=cpu-cluster-chm, id=/subscriptions/03d60a7f-8a1f-4aa2-8e20-3f45e41abc75/resourceGroups/aml-classification/providers/Microsoft.MachineLearningServices/workspaces/chmury-aml/computes/cpu-cluster-chm, type=AmlCompute, provisioning_state=Succeeded, location=eastus, tags=None),\n",
       " {\n",
       "   \"id\": \"/subscriptions/03d60a7f-8a1f-4aa2-8e20-3f45e41abc75/resourceGroups/aml-classification/providers/Microsoft.MachineLearningServices/workspaces/chmury-aml/computes/cpu-instances\",\n",
       "   \"name\": \"cpu-instances\",\n",
       "   \"location\": \"eastus\",\n",
       "   \"tags\": null,\n",
       "   \"properties\": {\n",
       "     \"description\": null,\n",
       "     \"computeType\": \"ComputeInstance\",\n",
       "     \"computeLocation\": \"eastus\",\n",
       "     \"resourceId\": null,\n",
       "     \"provisioningErrors\": null,\n",
       "     \"provisioningState\": \"Succeeded\",\n",
       "     \"properties\": {\n",
       "       \"vmSize\": \"STANDARD_DS2_V2\",\n",
       "       \"applications\": [\n",
       "         {\n",
       "           \"displayName\": \"Jupyter\",\n",
       "           \"endpointUri\": \"https://cpu-instances.eastus.instances.azureml.ms\"\n",
       "         },\n",
       "         {\n",
       "           \"displayName\": \"Jupyter Lab\",\n",
       "           \"endpointUri\": \"https://cpu-instances.eastus.instances.azureml.ms/lab\"\n",
       "         },\n",
       "         {\n",
       "           \"displayName\": \"RStudio\",\n",
       "           \"endpointUri\": \"https://cpu-instances-8787.eastus.instances.azureml.ms\"\n",
       "         }\n",
       "       ],\n",
       "       \"connectivityEndpoints\": {\n",
       "         \"publicIpAddress\": \"40.88.194.124\",\n",
       "         \"privateIpAddress\": \"10.0.0.4\"\n",
       "       },\n",
       "       \"sshSettings\": {\n",
       "         \"sshPublicAccess\": \"Disabled\",\n",
       "         \"adminUserName\": \"azureuser\",\n",
       "         \"adminPublicKey\": null,\n",
       "         \"sshPort\": 4000\n",
       "       },\n",
       "       \"personalComputeInstanceSettings\": null,\n",
       "       \"subnet\": {\n",
       "         \"id\": null\n",
       "       },\n",
       "       \"errors\": []\n",
       "     },\n",
       "     \"status\": {\n",
       "       \"errors\": [],\n",
       "       \"creationTime\": \"2021-01-26T22:14:37.713936+00:00\",\n",
       "       \"createdBy\": {\n",
       "         \"userObjectId\": \"eb5e1d0f-6323-4470-98ed-ae2310d5b845\",\n",
       "         \"userTenantId\": \"25b0cf0b-2531-431f-8a7e-7b38638fc9f8\",\n",
       "         \"userName\": \"Magdalena Kuna\"\n",
       "       },\n",
       "       \"modifiedTime\": \"2021-01-26T22:16:40.438791+00:00\",\n",
       "       \"state\": \"Running\",\n",
       "       \"vmSize\": \"STANDARD_DS2_V2\"\n",
       "     }\n",
       "   }\n",
       " }]"
      ]
     },
     "execution_count": 6,
     "metadata": {},
     "output_type": "execute_result"
    }
   ],
   "source": [
    "from azureml.core.compute import AmlCompute\n",
    "from azureml.core.compute import ComputeTarget\n",
    "\n",
    "ComputeTarget.list(workspace)"
   ]
  },
  {
   "cell_type": "markdown",
   "metadata": {},
   "source": [
    "W tym kroku zaczniemy podłączać się do naszego klastra oraz zabezpieczymy się na wypadek gdyby to się nie udało. Nasze zadanie możemy wykonywać tylko na typie klastra AmlCompute."
   ]
  },
  {
   "cell_type": "code",
   "execution_count": 12,
   "metadata": {},
   "outputs": [
    {
     "name": "stdout",
     "output_type": "stream",
     "text": [
      "Found existing training cluster.\n",
      "Checking cluster status...\n",
      "Succeeded\n",
      "AmlCompute wait for completion finished\n",
      "\n",
      "Minimum number of nodes requested have been provisioned\n"
     ]
    }
   ],
   "source": [
    "# Choose a name for your cluster.\n",
    "amlcompute_cluster_name = \"cpu-cluster-chm\"\n",
    "\n",
    "found = False\n",
    "# Check if this compute target already exists in the workspace.\n",
    "cts = workspace.compute_targets\n",
    "\n",
    "if amlcompute_cluster_name in cts and cts[amlcompute_cluster_name].type == 'AmlCompute':\n",
    "    found = True\n",
    "    print('Found existing training cluster.')\n",
    "     # Get existing cluster\n",
    "     # Method 1:\n",
    "    aml_remote_compute = cts[amlcompute_cluster_name]\n",
    "     # Method 2:\n",
    "     # aml_remote_compute = ComputeTarget(ws, amlcompute_cluster_name)\n",
    "    \n",
    "    print('Checking cluster status...')\n",
    "    # Can poll for a minimum number of nodes and for a specific timeout.\n",
    "    # If no min_node_count is provided, it will use the scale settings for the cluster.\n",
    "    aml_remote_compute.wait_for_completion(show_output = True, min_node_count = 0, timeout_in_minutes = 20)\n",
    "\n",
    "if not found:\n",
    "    print('Not found cluster...')"
   ]
  },
  {
   "cell_type": "markdown",
   "metadata": {},
   "source": [
    "Wyświetlamy metryki, których można użyć podczas uczenia przy problemie klasyfikacji do optymalizacji. "
   ]
  },
  {
   "cell_type": "code",
   "execution_count": 8,
   "metadata": {},
   "outputs": [
    {
     "data": {
      "text/plain": [
       "['norm_macro_recall',\n",
       " 'accuracy',\n",
       " 'AUC_weighted',\n",
       " 'average_precision_score_weighted',\n",
       " 'precision_score_weighted']"
      ]
     },
     "execution_count": 8,
     "metadata": {},
     "output_type": "execute_result"
    }
   ],
   "source": [
    "from azureml.train import automl\n",
    "\n",
    "# List of possible primary metrics is here:\n",
    "# https://docs.microsoft.com/en-us/azure/machine-learning/how-to-configure-auto-train#primary-metric\n",
    "    \n",
    "# Get a list of valid metrics for your given task\n",
    "automl.utilities.get_primary_metrics('classification')"
   ]
  },
  {
   "cell_type": "markdown",
   "metadata": {},
   "source": [
    "Powszechnie najlepsza metryką jest AUC_weighted, która bazuje na liczbie pozytywnie i negatywnie sklasyfikowanych obiektów i ją użyjemy w tym projekcie.\n",
    "\n",
    "Musimy następnie stworzyć podwaliny naszego projektu i określić wszystkie wczesniejsze parametry oraz dodać kilka nowych dotyczących uczenia. Stworzymy eksperyment, w którym dobierzemy pewne parametry do naszego zbioru"
   ]
  },
  {
   "cell_type": "code",
   "execution_count": 13,
   "metadata": {},
   "outputs": [],
   "source": [
    "import logging\n",
    "import os\n",
    "\n",
    "from azureml.train.automl import AutoMLConfig\n",
    "\n",
    "project_folder = './automl'\n",
    "os.makedirs(project_folder, exist_ok=True)\n",
    "\n",
    "automl_config = AutoMLConfig(compute_target=aml_remote_compute,\n",
    "                             task='classification',\n",
    "                             primary_metric='AUC_weighted',\n",
    "                             experiment_timeout_minutes=15,                            \n",
    "                             training_data=train_dataset,\n",
    "                             label_column_name=\"label\",\n",
    "                             n_cross_validations=5,\n",
    "                             # blacklist_models='XGBoostClassifier', \n",
    "                             # iteration_timeout_minutes=5,                                                    \n",
    "                             enable_early_stopping=True,\n",
    "                             featurization='auto',\n",
    "                             debug_log='automated_ml_errors.log',\n",
    "                             verbosity=logging.INFO,\n",
    "                             path=project_folder\n",
    "                             # **automl_settings\n",
    "                             )"
   ]
  },
  {
   "cell_type": "markdown",
   "metadata": {},
   "source": [
    "Teraz najważniejsza część programu, czyli uruchomienie naszego eksperymentu. Jak każdy ważny eksperyment należy go porządnie nazwać, a następnie uruchomić i poczekać aż nasze zadanie zrobi całą pracę. Przy nazwie eksperymentu warto przemyśleć, aby uzależnić ją od pewnej zmieniającej się ale nie powtarzającej się danej. Jeżeli tego nie zrobimy eksperyment będzie się nadpisywać w jednym pliku, czyli utracimy cenne dane, które możemy potem przeanalizować. "
   ]
  },
  {
   "cell_type": "code",
   "execution_count": 14,
   "metadata": {},
   "outputs": [
    {
     "name": "stdout",
     "output_type": "stream",
     "text": [
      "classif-find-species-01-27-2021-01\n",
      "Running on remote.\n",
      "No run_configuration provided, running on cpu-cluster-chm with default configuration\n",
      "Running on remote compute: cpu-cluster-chm\n",
      "Parent Run ID: AutoML_908933ad-fabd-4e6f-a3f9-3f39d1df9df7\n",
      "\n",
      "Current status: FeaturesGeneration. Generating features for the dataset.\n",
      "Current status: ModelSelection. Beginning model selection.\n",
      "\n",
      "****************************************************************************************************\n",
      "DATA GUARDRAILS: \n",
      "\n",
      "TYPE:         Class balancing detection\n",
      "STATUS:       PASSED\n",
      "DESCRIPTION:  Your inputs were analyzed, and all classes are balanced in your training data.\n",
      "              Learn more about imbalanced data: https://aka.ms/AutomatedMLImbalancedData\n",
      "\n",
      "****************************************************************************************************\n",
      "\n",
      "TYPE:         Missing feature values imputation\n",
      "STATUS:       PASSED\n",
      "DESCRIPTION:  No feature missing values were detected in the training data.\n",
      "              Learn more about missing value imputation: https://aka.ms/AutomatedMLFeaturization\n",
      "\n",
      "****************************************************************************************************\n",
      "\n",
      "TYPE:         High cardinality feature detection\n",
      "STATUS:       PASSED\n",
      "DESCRIPTION:  Your inputs were analyzed, and no high cardinality features were detected.\n",
      "              Learn more about high cardinality feature handling: https://aka.ms/AutomatedMLFeaturization\n",
      "\n",
      "****************************************************************************************************\n",
      "\n",
      "****************************************************************************************************\n",
      "ITERATION: The iteration being evaluated.\n",
      "PIPELINE: A summary description of the pipeline being evaluated.\n",
      "DURATION: Time taken for the current iteration.\n",
      "METRIC: The result of computing score on the fitted pipeline.\n",
      "BEST: The best observed score thus far.\n",
      "****************************************************************************************************\n",
      "\n",
      " ITERATION   PIPELINE                                       DURATION      METRIC      BEST\n",
      "         0   MaxAbsScaler LightGBM                          0:00:51       0.9835    0.9835\n",
      "         1   MaxAbsScaler XGBoostClassifier                 0:00:51       0.9888    0.9888\n",
      "         2   MinMaxScaler RandomForest                      0:00:51       0.9804    0.9888\n",
      "         3   RobustScaler ExtremeRandomTrees                0:00:50       0.9960    0.9960\n",
      "         4   MinMaxScaler RandomForest                      0:01:53       0.9947    0.9960\n",
      "         5   MinMaxScaler RandomForest                      0:00:57       0.9934    0.9960\n",
      "         6   StandardScalerWrapper RandomForest             0:00:51       0.9751    0.9960\n",
      "         7   MinMaxScaler ExtremeRandomTrees                0:00:45       0.9980    0.9980\n",
      "         8   MinMaxScaler ExtremeRandomTrees                0:00:50       0.9927    0.9980\n",
      "         9   SparseNormalizer KNN                           0:00:46       0.9986    0.9986\n",
      "        10   MinMaxScaler ExtremeRandomTrees                0:00:54       0.9960    0.9986\n",
      "        11   RobustScaler ExtremeRandomTrees                0:00:46       0.9986    0.9986\n",
      "        12   StandardScalerWrapper RandomForest             0:01:02       0.9854    0.9986\n",
      "        13    VotingEnsemble                                0:01:10       0.9986    0.9986\n",
      "        14    StackEnsemble                                 0:01:17       0.9961    0.9986\n",
      "Manual run timing: --- 1389.9705657958984 seconds needed for running the whole Remote AutoML Experiment ---\n"
     ]
    }
   ],
   "source": [
    "from azureml.core import Experiment\n",
    "from datetime import datetime\n",
    "\n",
    "now = datetime.now()\n",
    "time_string = now.strftime(\"%m-%d-%Y-%H\")\n",
    "experiment_name = \"classif-find-species-{0}\".format(time_string)\n",
    "print(experiment_name)\n",
    "\n",
    "experiment = Experiment(workspace=workspace, name=experiment_name)\n",
    "\n",
    "import time\n",
    "start_time = time.time()\n",
    "            \n",
    "run = experiment.submit(automl_config, show_output=True)\n",
    "\n",
    "print('Manual run timing: --- %s seconds needed for running the whole Remote AutoML Experiment ---' % (time.time() - start_time))"
   ]
  },
  {
   "cell_type": "markdown",
   "metadata": {},
   "source": [
    "W następnych krokach będziemy sprawdzać dane statystyczne naszego modelu. Skorzystamy z widgetów, które nam to udostepnią. Poczatkowo Zobaczymy ile czasu uczył się nasz model - tutaj około 23 minut. Następnie wydzielamy najlepszy model, który udało nam się uzyskać w eksperymencie i będziemy badać jego dokładność."
   ]
  },
  {
   "cell_type": "code",
   "execution_count": 15,
   "metadata": {},
   "outputs": [
    {
     "data": {
      "application/vnd.jupyter.widget-view+json": {
       "model_id": "91bf33c7fc6e418392354b1bdb7468d7",
       "version_major": 2,
       "version_minor": 0
      },
      "text/plain": [
       "_AutoMLWidget(widget_settings={'childWidgetDisplay': 'popup', 'send_telemetry': False, 'log_level': 'INFO', 's…"
      ]
     },
     "metadata": {},
     "output_type": "display_data"
    },
    {
     "data": {
      "application/aml.mini.widget.v1": "{\"status\": \"Completed\", \"workbench_run_details_uri\": \"https://ml.azure.com/experiments/classif-find-species-01-27-2021-01/runs/AutoML_908933ad-fabd-4e6f-a3f9-3f39d1df9df7?wsid=/subscriptions/03d60a7f-8a1f-4aa2-8e20-3f45e41abc75/resourcegroups/aml-classification/workspaces/chmury-aml\", \"run_id\": \"AutoML_908933ad-fabd-4e6f-a3f9-3f39d1df9df7\", \"run_properties\": {\"run_id\": \"AutoML_908933ad-fabd-4e6f-a3f9-3f39d1df9df7\", \"created_utc\": \"2021-01-27T00:38:19.691612Z\", \"properties\": {\"num_iterations\": \"1000\", \"training_type\": \"TrainFull\", \"acquisition_function\": \"EI\", \"primary_metric\": \"AUC_weighted\", \"train_split\": \"0\", \"acquisition_parameter\": \"0\", \"num_cross_validation\": \"5\", \"target\": \"cpu-cluster-chm\", \"AMLSettingsJsonString\": \"{\\\"path\\\":null,\\\"name\\\":\\\"classif-find-species-01-27-2021-01\\\",\\\"subscription_id\\\":\\\"03d60a7f-8a1f-4aa2-8e20-3f45e41abc75\\\",\\\"resource_group\\\":\\\"aml-classification\\\",\\\"workspace_name\\\":\\\"chmury-aml\\\",\\\"region\\\":\\\"eastus\\\",\\\"compute_target\\\":\\\"cpu-cluster-chm\\\",\\\"spark_service\\\":null,\\\"azure_service\\\":\\\"remote\\\",\\\"many_models\\\":false,\\\"pipeline_fetch_max_batch_size\\\":1,\\\"iterations\\\":1000,\\\"primary_metric\\\":\\\"AUC_weighted\\\",\\\"task_type\\\":\\\"classification\\\",\\\"data_script\\\":null,\\\"validation_size\\\":0.0,\\\"n_cross_validations\\\":5,\\\"y_min\\\":null,\\\"y_max\\\":null,\\\"num_classes\\\":null,\\\"featurization\\\":\\\"auto\\\",\\\"_ignore_package_version_incompatibilities\\\":false,\\\"is_timeseries\\\":false,\\\"max_cores_per_iteration\\\":1,\\\"max_concurrent_iterations\\\":1,\\\"iteration_timeout_minutes\\\":null,\\\"mem_in_mb\\\":null,\\\"enforce_time_on_windows\\\":false,\\\"experiment_timeout_minutes\\\":15,\\\"experiment_exit_score\\\":null,\\\"whitelist_models\\\":null,\\\"blacklist_algos\\\":[\\\"TensorFlowLinearClassifier\\\",\\\"TensorFlowDNN\\\"],\\\"supported_models\\\":[\\\"MultinomialNaiveBayes\\\",\\\"XGBoostClassifier\\\",\\\"KNN\\\",\\\"RandomForest\\\",\\\"SVM\\\",\\\"GradientBoosting\\\",\\\"TensorFlowDNN\\\",\\\"DecisionTree\\\",\\\"LogisticRegression\\\",\\\"TensorFlowLinearClassifier\\\",\\\"AveragedPerceptronClassifier\\\",\\\"SGD\\\",\\\"LinearSVM\\\",\\\"BernoulliNaiveBayes\\\",\\\"ExtremeRandomTrees\\\",\\\"LightGBM\\\"],\\\"auto_blacklist\\\":true,\\\"blacklist_samples_reached\\\":false,\\\"exclude_nan_labels\\\":true,\\\"verbosity\\\":20,\\\"_debug_log\\\":\\\"azureml_automl.log\\\",\\\"show_warnings\\\":false,\\\"model_explainability\\\":true,\\\"service_url\\\":null,\\\"sdk_url\\\":null,\\\"sdk_packages\\\":null,\\\"enable_onnx_compatible_models\\\":false,\\\"enable_split_onnx_featurizer_estimator_models\\\":false,\\\"vm_type\\\":\\\"STANDARD_DS3_V2\\\",\\\"telemetry_verbosity\\\":20,\\\"send_telemetry\\\":true,\\\"enable_dnn\\\":false,\\\"scenario\\\":\\\"SDK-1.13.0\\\",\\\"environment_label\\\":null,\\\"force_text_dnn\\\":false,\\\"enable_feature_sweeping\\\":true,\\\"enable_early_stopping\\\":true,\\\"early_stopping_n_iters\\\":10,\\\"metrics\\\":null,\\\"enable_ensembling\\\":true,\\\"enable_stack_ensembling\\\":true,\\\"ensemble_iterations\\\":15,\\\"enable_tf\\\":false,\\\"enable_subsampling\\\":null,\\\"subsample_seed\\\":null,\\\"enable_nimbusml\\\":false,\\\"enable_streaming\\\":false,\\\"force_streaming\\\":false,\\\"track_child_runs\\\":true,\\\"allowed_private_models\\\":[],\\\"label_column_name\\\":\\\"label\\\",\\\"weight_column_name\\\":null,\\\"cv_split_column_names\\\":null,\\\"enable_local_managed\\\":false,\\\"_local_managed_run_id\\\":null,\\\"cost_mode\\\":1,\\\"lag_length\\\":0,\\\"metric_operation\\\":\\\"maximize\\\",\\\"preprocess\\\":true}\", \"DataPrepJsonString\": \"{\\\\\\\"training_data\\\\\\\": \\\\\\\"{\\\\\\\\\\\\\\\"blocks\\\\\\\\\\\\\\\": [{\\\\\\\\\\\\\\\"id\\\\\\\\\\\\\\\": \\\\\\\\\\\\\\\"8d0157d3-46b0-4194-ae50-2a772ec9a6a3\\\\\\\\\\\\\\\", \\\\\\\\\\\\\\\"type\\\\\\\\\\\\\\\": \\\\\\\\\\\\\\\"Microsoft.DPrep.GetDatastoreFilesBlock\\\\\\\\\\\\\\\", \\\\\\\\\\\\\\\"arguments\\\\\\\\\\\\\\\": {\\\\\\\\\\\\\\\"datastores\\\\\\\\\\\\\\\": [{\\\\\\\\\\\\\\\"datastoreName\\\\\\\\\\\\\\\": \\\\\\\\\\\\\\\"iris\\\\\\\\\\\\\\\", \\\\\\\\\\\\\\\"path\\\\\\\\\\\\\\\": \\\\\\\\\\\\\\\"UI/01-26-2021_102444_UTC/Iris.csv\\\\\\\\\\\\\\\", \\\\\\\\\\\\\\\"resourceGroup\\\\\\\\\\\\\\\": \\\\\\\\\\\\\\\"aml-classification\\\\\\\\\\\\\\\", \\\\\\\\\\\\\\\"subscription\\\\\\\\\\\\\\\": \\\\\\\\\\\\\\\"03d60a7f-8a1f-4aa2-8e20-3f45e41abc75\\\\\\\\\\\\\\\", \\\\\\\\\\\\\\\"workspaceName\\\\\\\\\\\\\\\": \\\\\\\\\\\\\\\"chmury-aml\\\\\\\\\\\\\\\"}]}, \\\\\\\\\\\\\\\"localData\\\\\\\\\\\\\\\": {}, \\\\\\\\\\\\\\\"isEnabled\\\\\\\\\\\\\\\": true, \\\\\\\\\\\\\\\"name\\\\\\\\\\\\\\\": null, \\\\\\\\\\\\\\\"annotation\\\\\\\\\\\\\\\": null}, {\\\\\\\\\\\\\\\"id\\\\\\\\\\\\\\\": \\\\\\\\\\\\\\\"8a1620d1-7743-4dbe-9714-77872bde1333\\\\\\\\\\\\\\\", \\\\\\\\\\\\\\\"type\\\\\\\\\\\\\\\": \\\\\\\\\\\\\\\"Microsoft.DPrep.ParseDelimitedBlock\\\\\\\\\\\\\\\", \\\\\\\\\\\\\\\"arguments\\\\\\\\\\\\\\\": {\\\\\\\\\\\\\\\"columnHeadersMode\\\\\\\\\\\\\\\": 1, \\\\\\\\\\\\\\\"fileEncoding\\\\\\\\\\\\\\\": 0, \\\\\\\\\\\\\\\"handleQuotedLineBreaks\\\\\\\\\\\\\\\": false, \\\\\\\\\\\\\\\"preview\\\\\\\\\\\\\\\": false, \\\\\\\\\\\\\\\"separator\\\\\\\\\\\\\\\": \\\\\\\\\\\\\\\",\\\\\\\\\\\\\\\", \\\\\\\\\\\\\\\"skipRows\\\\\\\\\\\\\\\": 0, \\\\\\\\\\\\\\\"skipRowsMode\\\\\\\\\\\\\\\": 0}, \\\\\\\\\\\\\\\"localData\\\\\\\\\\\\\\\": {}, \\\\\\\\\\\\\\\"isEnabled\\\\\\\\\\\\\\\": true, \\\\\\\\\\\\\\\"name\\\\\\\\\\\\\\\": null, \\\\\\\\\\\\\\\"annotation\\\\\\\\\\\\\\\": null}, {\\\\\\\\\\\\\\\"id\\\\\\\\\\\\\\\": \\\\\\\\\\\\\\\"ff5074c0-96e4-4008-93dd-02d5804cfce2\\\\\\\\\\\\\\\", \\\\\\\\\\\\\\\"type\\\\\\\\\\\\\\\": \\\\\\\\\\\\\\\"Microsoft.DPrep.DropColumnsBlock\\\\\\\\\\\\\\\", \\\\\\\\\\\\\\\"arguments\\\\\\\\\\\\\\\": {\\\\\\\\\\\\\\\"columns\\\\\\\\\\\\\\\": {\\\\\\\\\\\\\\\"type\\\\\\\\\\\\\\\": 0, \\\\\\\\\\\\\\\"details\\\\\\\\\\\\\\\": {\\\\\\\\\\\\\\\"selectedColumns\\\\\\\\\\\\\\\": [\\\\\\\\\\\\\\\"Path\\\\\\\\\\\\\\\"]}}}, \\\\\\\\\\\\\\\"localData\\\\\\\\\\\\\\\": {}, \\\\\\\\\\\\\\\"isEnabled\\\\\\\\\\\\\\\": true, \\\\\\\\\\\\\\\"name\\\\\\\\\\\\\\\": null, \\\\\\\\\\\\\\\"annotation\\\\\\\\\\\\\\\": null}, {\\\\\\\\\\\\\\\"id\\\\\\\\\\\\\\\": \\\\\\\\\\\\\\\"12c6cf49-c993-48eb-a5fc-0ac63f8ce221\\\\\\\\\\\\\\\", \\\\\\\\\\\\\\\"type\\\\\\\\\\\\\\\": \\\\\\\\\\\\\\\"Microsoft.DPrep.SetColumnTypesBlock\\\\\\\\\\\\\\\", \\\\\\\\\\\\\\\"arguments\\\\\\\\\\\\\\\": {\\\\\\\\\\\\\\\"columnConversion\\\\\\\\\\\\\\\": [{\\\\\\\\\\\\\\\"column\\\\\\\\\\\\\\\": {\\\\\\\\\\\\\\\"type\\\\\\\\\\\\\\\": 2, \\\\\\\\\\\\\\\"details\\\\\\\\\\\\\\\": {\\\\\\\\\\\\\\\"selectedColumn\\\\\\\\\\\\\\\": \\\\\\\\\\\\\\\"Path\\\\\\\\\\\\\\\"}}, \\\\\\\\\\\\\\\"typeProperty\\\\\\\\\\\\\\\": 0}, {\\\\\\\\\\\\\\\"column\\\\\\\\\\\\\\\": {\\\\\\\\\\\\\\\"type\\\\\\\\\\\\\\\": 2, \\\\\\\\\\\\\\\"details\\\\\\\\\\\\\\\": {\\\\\\\\\\\\\\\"selectedColumn\\\\\\\\\\\\\\\": \\\\\\\\\\\\\\\"petal_length\\\\\\\\\\\\\\\"}}, \\\\\\\\\\\\\\\"typeProperty\\\\\\\\\\\\\\\": 3}, {\\\\\\\\\\\\\\\"column\\\\\\\\\\\\\\\": {\\\\\\\\\\\\\\\"type\\\\\\\\\\\\\\\": 2, \\\\\\\\\\\\\\\"details\\\\\\\\\\\\\\\": {\\\\\\\\\\\\\\\"selectedColumn\\\\\\\\\\\\\\\": \\\\\\\\\\\\\\\"petal_width\\\\\\\\\\\\\\\"}}, \\\\\\\\\\\\\\\"typeProperty\\\\\\\\\\\\\\\": 3}, {\\\\\\\\\\\\\\\"column\\\\\\\\\\\\\\\": {\\\\\\\\\\\\\\\"type\\\\\\\\\\\\\\\": 2, \\\\\\\\\\\\\\\"details\\\\\\\\\\\\\\\": {\\\\\\\\\\\\\\\"selectedColumn\\\\\\\\\\\\\\\": \\\\\\\\\\\\\\\"sepal_length\\\\\\\\\\\\\\\"}}, \\\\\\\\\\\\\\\"typeProperty\\\\\\\\\\\\\\\": 3}, {\\\\\\\\\\\\\\\"column\\\\\\\\\\\\\\\": {\\\\\\\\\\\\\\\"type\\\\\\\\\\\\\\\": 2, \\\\\\\\\\\\\\\"details\\\\\\\\\\\\\\\": {\\\\\\\\\\\\\\\"selectedColumn\\\\\\\\\\\\\\\": \\\\\\\\\\\\\\\"sepal_width\\\\\\\\\\\\\\\"}}, \\\\\\\\\\\\\\\"typeProperty\\\\\\\\\\\\\\\": 3}, {\\\\\\\\\\\\\\\"column\\\\\\\\\\\\\\\": {\\\\\\\\\\\\\\\"type\\\\\\\\\\\\\\\": 2, \\\\\\\\\\\\\\\"details\\\\\\\\\\\\\\\": {\\\\\\\\\\\\\\\"selectedColumn\\\\\\\\\\\\\\\": \\\\\\\\\\\\\\\"label\\\\\\\\\\\\\\\"}}, \\\\\\\\\\\\\\\"typeProperty\\\\\\\\\\\\\\\": 0}]}, \\\\\\\\\\\\\\\"localData\\\\\\\\\\\\\\\": {}, \\\\\\\\\\\\\\\"isEnabled\\\\\\\\\\\\\\\": true, \\\\\\\\\\\\\\\"name\\\\\\\\\\\\\\\": null, \\\\\\\\\\\\\\\"annotation\\\\\\\\\\\\\\\": null}, {\\\\\\\\\\\\\\\"id\\\\\\\\\\\\\\\": \\\\\\\\\\\\\\\"696870cc-77cc-4094-ae96-312a736e90e3\\\\\\\\\\\\\\\", \\\\\\\\\\\\\\\"type\\\\\\\\\\\\\\\": \\\\\\\\\\\\\\\"Microsoft.DPrep.TakeSampleBlock\\\\\\\\\\\\\\\", \\\\\\\\\\\\\\\"arguments\\\\\\\\\\\\\\\": {\\\\\\\\\\\\\\\"probability\\\\\\\\\\\\\\\": 0.7, \\\\\\\\\\\\\\\"probabilityLowerBound\\\\\\\\\\\\\\\": 0.0, \\\\\\\\\\\\\\\"seed\\\\\\\\\\\\\\\": 1}, \\\\\\\\\\\\\\\"localData\\\\\\\\\\\\\\\": {}, \\\\\\\\\\\\\\\"isEnabled\\\\\\\\\\\\\\\": true, \\\\\\\\\\\\\\\"name\\\\\\\\\\\\\\\": null, \\\\\\\\\\\\\\\"annotation\\\\\\\\\\\\\\\": null}], \\\\\\\\\\\\\\\"inspectors\\\\\\\\\\\\\\\": [], \\\\\\\\\\\\\\\"meta\\\\\\\\\\\\\\\": {\\\\\\\\\\\\\\\"savedDatasetId\\\\\\\\\\\\\\\": \\\\\\\\\\\\\\\"481fa3ae-5763-43d5-910f-32079bc4c638\\\\\\\\\\\\\\\", \\\\\\\\\\\\\\\"datasetType\\\\\\\\\\\\\\\": \\\\\\\\\\\\\\\"tabular\\\\\\\\\\\\\\\", \\\\\\\\\\\\\\\"subscriptionId\\\\\\\\\\\\\\\": \\\\\\\\\\\\\\\"03d60a7f-8a1f-4aa2-8e20-3f45e41abc75\\\\\\\\\\\\\\\", \\\\\\\\\\\\\\\"workspaceId\\\\\\\\\\\\\\\": \\\\\\\\\\\\\\\"ba1202fc-0e9c-44d4-af8b-95c585c52e5b\\\\\\\\\\\\\\\", \\\\\\\\\\\\\\\"workspaceLocation\\\\\\\\\\\\\\\": \\\\\\\\\\\\\\\"eastus\\\\\\\\\\\\\\\"}}\\\\\\\", \\\\\\\"activities\\\\\\\": 0}\", \"EnableSubsampling\": null, \"runTemplate\": \"AutoML\", \"azureml.runsource\": \"automl\", \"display_task_type\": \"classification\", \"dependencies_versions\": \"{\\\"azureml-train-automl-runtime\\\": \\\"1.21.0\\\", \\\"azureml-train-automl-client\\\": \\\"1.21.0\\\", \\\"azureml-telemetry\\\": \\\"1.21.0\\\", \\\"azureml-model-management-sdk\\\": \\\"1.0.1b6.post1\\\", \\\"azureml-interpret\\\": \\\"1.21.0\\\", \\\"azureml-defaults\\\": \\\"1.21.0\\\", \\\"azureml-dataset-runtime\\\": \\\"1.21.0\\\", \\\"azureml-dataprep\\\": \\\"2.8.2\\\", \\\"azureml-dataprep-rslex\\\": \\\"1.6.0\\\", \\\"azureml-dataprep-native\\\": \\\"28.0.0\\\", \\\"azureml-core\\\": \\\"1.21.0\\\", \\\"azureml-automl-runtime\\\": \\\"1.21.0\\\", \\\"azureml-automl-core\\\": \\\"1.21.0\\\"}\", \"_aml_system_scenario_identification\": \"Remote.Parent\", \"ClientType\": \"SDK\", \"environment_cpu_name\": \"AzureML-AutoML\", \"environment_cpu_label\": \"prod\", \"environment_gpu_name\": \"AzureML-AutoML-GPU\", \"environment_gpu_label\": \"prod\", \"root_attribution\": \"automl\", \"attribution\": \"AutoML\", \"Orchestrator\": \"AutoML\", \"CancelUri\": \"https://eastus.experiments.azureml.net/jasmine/v1.0/subscriptions/03d60a7f-8a1f-4aa2-8e20-3f45e41abc75/resourceGroups/aml-classification/providers/Microsoft.MachineLearningServices/workspaces/chmury-aml/experimentids/dce5bccf-1a95-477a-9d47-6d50daf5d125/cancel/AutoML_908933ad-fabd-4e6f-a3f9-3f39d1df9df7\", \"ClientSdkVersion\": \"1.20.0.post1\", \"snapshotId\": \"00000000-0000-0000-0000-000000000000\", \"SetupRunId\": \"AutoML_908933ad-fabd-4e6f-a3f9-3f39d1df9df7_setup\", \"SetupRunContainerId\": \"dcid.AutoML_908933ad-fabd-4e6f-a3f9-3f39d1df9df7_setup\", \"FeaturizationRunJsonPath\": \"featurizer_container.json\", \"FeaturizationRunId\": \"AutoML_908933ad-fabd-4e6f-a3f9-3f39d1df9df7_featurize\", \"ProblemInfoJsonString\": \"{\\\"dataset_num_categorical\\\": 0, \\\"is_sparse\\\": false, \\\"subsampling\\\": false, \\\"dataset_classes\\\": 3, \\\"dataset_features\\\": 4, \\\"dataset_samples\\\": 110, \\\"single_frequency_class_detected\\\": false}\", \"ModelExplainRunId\": \"AutoML_908933ad-fabd-4e6f-a3f9-3f39d1df9df7_ModelExplain\"}, \"tags\": {\"model_explain_run\": \"best_run\", \"_aml_system_azureml.automlComponent\": \"AutoML\", \"pipeline_id\": \"\", \"score\": \"\", \"predicted_cost\": \"\", \"fit_time\": \"\", \"training_percent\": \"\", \"iteration\": \"\", \"run_preprocessor\": \"\", \"run_algorithm\": \"\", \"automl_best_child_run_id\": \"AutoML_908933ad-fabd-4e6f-a3f9-3f39d1df9df7_11\", \"model_explain_best_run_child_id\": \"AutoML_908933ad-fabd-4e6f-a3f9-3f39d1df9df7_11\"}, \"end_time_utc\": \"2021-01-27T01:01:08.111083Z\", \"status\": \"Completed\", \"log_files\": {}, \"log_groups\": [], \"run_duration\": \"0:22:48\", \"run_number\": \"6\", \"run_queued_details\": {\"status\": \"Completed\", \"details\": null}}, \"child_runs\": [{\"run_id\": \"AutoML_908933ad-fabd-4e6f-a3f9-3f39d1df9df7_0\", \"run_number\": 10, \"metric\": null, \"status\": \"Completed\", \"run_type\": \"azureml.scriptrun\", \"training_percent\": \"100\", \"start_time\": \"2021-01-27T00:41:50.543285Z\", \"end_time\": \"2021-01-27T00:42:41.79346Z\", \"created_time\": \"2021-01-27T00:41:33.192712Z\", \"created_time_dt\": \"2021-01-27T00:41:33.192712Z\", \"duration\": \"0:01:08\", \"iteration\": \"0\", \"goal\": \"AUC_weighted_max\", \"run_name\": \"MaxAbsScaler, LightGBM\", \"run_properties\": \"copy=True\", \"primary_metric\": 0.98346702, \"best_metric\": 0.98346702}, {\"run_id\": \"AutoML_908933ad-fabd-4e6f-a3f9-3f39d1df9df7_1\", \"run_number\": 11, \"metric\": null, \"status\": \"Completed\", \"run_type\": \"azureml.scriptrun\", \"training_percent\": \"100\", \"start_time\": \"2021-01-27T00:43:01.959996Z\", \"end_time\": \"2021-01-27T00:43:53.147998Z\", \"created_time\": \"2021-01-27T00:42:46.204452Z\", \"created_time_dt\": \"2021-01-27T00:42:46.204452Z\", \"duration\": \"0:01:06\", \"iteration\": \"1\", \"goal\": \"AUC_weighted_max\", \"run_name\": \"MaxAbsScaler, XGBoostClassifier\", \"run_properties\": \"copy=True\", \"primary_metric\": 0.98877897, \"best_metric\": 0.98877897}, {\"run_id\": \"AutoML_908933ad-fabd-4e6f-a3f9-3f39d1df9df7_2\", \"run_number\": 12, \"metric\": null, \"status\": \"Completed\", \"run_type\": \"azureml.scriptrun\", \"training_percent\": \"100\", \"start_time\": \"2021-01-27T00:44:11.7044Z\", \"end_time\": \"2021-01-27T00:45:02.78863Z\", \"created_time\": \"2021-01-27T00:43:55.222684Z\", \"created_time_dt\": \"2021-01-27T00:43:55.222684Z\", \"duration\": \"0:01:07\", \"iteration\": \"2\", \"goal\": \"AUC_weighted_max\", \"run_name\": \"MinMaxScaler, RandomForest\", \"run_properties\": \"copy=True, feature_range=(0, 1\", \"primary_metric\": 0.98043672, \"best_metric\": 0.98877897}, {\"run_id\": \"AutoML_908933ad-fabd-4e6f-a3f9-3f39d1df9df7_3\", \"run_number\": 13, \"metric\": null, \"status\": \"Completed\", \"run_type\": \"azureml.scriptrun\", \"training_percent\": \"100\", \"start_time\": \"2021-01-27T00:45:20.053162Z\", \"end_time\": \"2021-01-27T00:46:10.461413Z\", \"created_time\": \"2021-01-27T00:45:04.977264Z\", \"created_time_dt\": \"2021-01-27T00:45:04.977264Z\", \"duration\": \"0:01:05\", \"iteration\": \"3\", \"goal\": \"AUC_weighted_max\", \"run_name\": \"RobustScaler, ExtremeRandomTrees\", \"run_properties\": \"copy=True, quantile_range=[10, 90], with_centering=False,\\n             with_scaling=False\", \"primary_metric\": 0.99598039, \"best_metric\": 0.99598039}, {\"run_id\": \"AutoML_908933ad-fabd-4e6f-a3f9-3f39d1df9df7_4\", \"run_number\": 14, \"metric\": null, \"status\": \"Completed\", \"run_type\": \"azureml.scriptrun\", \"training_percent\": \"100\", \"start_time\": \"2021-01-27T00:46:26.756522Z\", \"end_time\": \"2021-01-27T00:48:19.289979Z\", \"created_time\": \"2021-01-27T00:46:13.319957Z\", \"created_time_dt\": \"2021-01-27T00:46:13.319957Z\", \"duration\": \"0:02:05\", \"iteration\": \"4\", \"goal\": \"AUC_weighted_max\", \"run_name\": \"MinMaxScaler, RandomForest\", \"run_properties\": \"copy=True, feature_range=(0, 1\", \"primary_metric\": 0.99468806, \"best_metric\": 0.99598039}, {\"run_id\": \"AutoML_908933ad-fabd-4e6f-a3f9-3f39d1df9df7_5\", \"run_number\": 15, \"metric\": null, \"status\": \"Completed\", \"run_type\": \"azureml.scriptrun\", \"training_percent\": \"100\", \"start_time\": \"2021-01-27T00:48:35.632803Z\", \"end_time\": \"2021-01-27T00:49:33.047253Z\", \"created_time\": \"2021-01-27T00:48:22.165294Z\", \"created_time_dt\": \"2021-01-27T00:48:22.165294Z\", \"duration\": \"0:01:10\", \"iteration\": \"5\", \"goal\": \"AUC_weighted_max\", \"run_name\": \"MinMaxScaler, RandomForest\", \"run_properties\": \"copy=True, feature_range=(0, 1\", \"primary_metric\": 0.99340018, \"best_metric\": 0.99598039}, {\"run_id\": \"AutoML_908933ad-fabd-4e6f-a3f9-3f39d1df9df7_6\", \"run_number\": 16, \"metric\": null, \"status\": \"Completed\", \"run_type\": \"azureml.scriptrun\", \"training_percent\": \"100\", \"start_time\": \"2021-01-27T00:49:50.653799Z\", \"end_time\": \"2021-01-27T00:50:41.820684Z\", \"created_time\": \"2021-01-27T00:49:35.185011Z\", \"created_time_dt\": \"2021-01-27T00:49:35.185011Z\", \"duration\": \"0:01:06\", \"iteration\": \"6\", \"goal\": \"AUC_weighted_max\", \"run_name\": \"StandardScalerWrapper, RandomForest\", \"run_properties\": \"<azureml.automl.runtime.shared.model_wrappers.StandardScalerWrapper object at 0x7f58dc676630\", \"primary_metric\": 0.97506239, \"best_metric\": 0.99598039}, {\"run_id\": \"AutoML_908933ad-fabd-4e6f-a3f9-3f39d1df9df7_7\", \"run_number\": 17, \"metric\": null, \"status\": \"Completed\", \"run_type\": \"azureml.scriptrun\", \"training_percent\": \"100\", \"start_time\": \"2021-01-27T00:50:59.221069Z\", \"end_time\": \"2021-01-27T00:51:44.097207Z\", \"created_time\": \"2021-01-27T00:50:45.651386Z\", \"created_time_dt\": \"2021-01-27T00:50:45.651386Z\", \"duration\": \"0:00:58\", \"iteration\": \"7\", \"goal\": \"AUC_weighted_max\", \"run_name\": \"MinMaxScaler, ExtremeRandomTrees\", \"run_properties\": \"copy=True, feature_range=(0, 1\", \"primary_metric\": 0.9979902, \"best_metric\": 0.9979902}, {\"run_id\": \"AutoML_908933ad-fabd-4e6f-a3f9-3f39d1df9df7_8\", \"run_number\": 18, \"metric\": null, \"status\": \"Completed\", \"run_type\": \"azureml.scriptrun\", \"training_percent\": \"100\", \"start_time\": \"2021-01-27T00:51:58.01473Z\", \"end_time\": \"2021-01-27T00:52:48.063401Z\", \"created_time\": \"2021-01-27T00:51:46.145829Z\", \"created_time_dt\": \"2021-01-27T00:51:46.145829Z\", \"duration\": \"0:01:01\", \"iteration\": \"8\", \"goal\": \"AUC_weighted_max\", \"run_name\": \"MinMaxScaler, ExtremeRandomTrees\", \"run_properties\": \"copy=True, feature_range=(0, 1\", \"primary_metric\": 0.99271836, \"best_metric\": 0.9979902}, {\"run_id\": \"AutoML_908933ad-fabd-4e6f-a3f9-3f39d1df9df7_9\", \"run_number\": 19, \"metric\": null, \"status\": \"Completed\", \"run_type\": \"azureml.scriptrun\", \"training_percent\": \"100\", \"start_time\": \"2021-01-27T00:53:03.550618Z\", \"end_time\": \"2021-01-27T00:53:49.848076Z\", \"created_time\": \"2021-01-27T00:52:51.892985Z\", \"created_time_dt\": \"2021-01-27T00:52:51.892985Z\", \"duration\": \"0:00:57\", \"iteration\": \"9\", \"goal\": \"AUC_weighted_max\", \"run_name\": \"SparseNormalizer, KNN\", \"run_properties\": \"<azureml.automl.runtime.shared.model_wrappers.SparseNormalizer object at 0x7f42965ab390\", \"primary_metric\": 0.99863636, \"best_metric\": 0.99863636}, {\"run_id\": \"AutoML_908933ad-fabd-4e6f-a3f9-3f39d1df9df7_10\", \"run_number\": 20, \"metric\": null, \"status\": \"Completed\", \"run_type\": \"azureml.scriptrun\", \"training_percent\": \"100\", \"start_time\": \"2021-01-27T00:54:10.747372Z\", \"end_time\": \"2021-01-27T00:55:04.476294Z\", \"created_time\": \"2021-01-27T00:53:52.687083Z\", \"created_time_dt\": \"2021-01-27T00:53:52.687083Z\", \"duration\": \"0:01:11\", \"iteration\": \"10\", \"goal\": \"AUC_weighted_max\", \"run_name\": \"MinMaxScaler, ExtremeRandomTrees\", \"run_properties\": \"copy=True, feature_range=(0, 1\", \"primary_metric\": 0.99598039, \"best_metric\": 0.99863636}, {\"run_id\": \"AutoML_908933ad-fabd-4e6f-a3f9-3f39d1df9df7_11\", \"run_number\": 21, \"metric\": null, \"status\": \"Completed\", \"run_type\": \"azureml.scriptrun\", \"training_percent\": \"100\", \"start_time\": \"2021-01-27T00:55:21.476449Z\", \"end_time\": \"2021-01-27T00:56:07.457255Z\", \"created_time\": \"2021-01-27T00:55:08.113959Z\", \"created_time_dt\": \"2021-01-27T00:55:08.113959Z\", \"duration\": \"0:00:59\", \"iteration\": \"11\", \"goal\": \"AUC_weighted_max\", \"run_name\": \"RobustScaler, ExtremeRandomTrees\", \"run_properties\": \"copy=True, quantile_range=[10, 90], with_centering=True,\\n             with_scaling=False\", \"primary_metric\": 0.99863636, \"best_metric\": 0.99863636}, {\"run_id\": \"AutoML_908933ad-fabd-4e6f-a3f9-3f39d1df9df7_12\", \"run_number\": 22, \"metric\": null, \"status\": \"Completed\", \"run_type\": \"azureml.scriptrun\", \"training_percent\": \"100\", \"start_time\": \"2021-01-27T00:56:55.122429Z\", \"end_time\": \"2021-01-27T00:57:57.582153Z\", \"created_time\": \"2021-01-27T00:56:10.41439Z\", \"created_time_dt\": \"2021-01-27T00:56:10.41439Z\", \"duration\": \"0:01:47\", \"iteration\": \"12\", \"goal\": \"AUC_weighted_max\", \"run_name\": \"StandardScalerWrapper, RandomForest\", \"run_properties\": \"<azureml.automl.runtime.shared.model_wrappers.StandardScalerWrapper object at 0x7f207c423438\", \"primary_metric\": 0.98542335, \"best_metric\": 0.99863636}, {\"run_id\": \"AutoML_908933ad-fabd-4e6f-a3f9-3f39d1df9df7_13\", \"run_number\": 23, \"metric\": null, \"status\": \"Completed\", \"run_type\": \"azureml.scriptrun\", \"training_percent\": \"100\", \"start_time\": \"2021-01-27T00:58:11.005669Z\", \"end_time\": \"2021-01-27T00:59:20.965911Z\", \"created_time\": \"2021-01-27T00:57:58.524473Z\", \"created_time_dt\": \"2021-01-27T00:57:58.524473Z\", \"duration\": \"0:01:22\", \"iteration\": \"13\", \"goal\": \"AUC_weighted_max\", \"run_name\": \"VotingEnsemble\", \"run_properties\": \"classification_labels=None,\\n                              estimators=[('11',\\n                                           Pipeline(memory=None,\\n                                                    steps=[('robustscaler',\\n                                                            RobustScaler(copy=True,\\n                                                                         quantile_range=[10,\\n                                                                                         90],\\n                                                                         with_centering=True,\\n                                                                         with_scaling=False\", \"primary_metric\": 0.99863636, \"best_metric\": 0.99863636}, {\"run_id\": \"AutoML_908933ad-fabd-4e6f-a3f9-3f39d1df9df7_14\", \"run_number\": 24, \"metric\": null, \"status\": \"Completed\", \"run_type\": \"azureml.scriptrun\", \"training_percent\": \"100\", \"start_time\": \"2021-01-27T00:59:33.666346Z\", \"end_time\": \"2021-01-27T01:00:50.300047Z\", \"created_time\": \"2021-01-27T00:59:21.770407Z\", \"created_time_dt\": \"2021-01-27T00:59:21.770407Z\", \"duration\": \"0:01:28\", \"iteration\": \"14\", \"goal\": \"AUC_weighted_max\", \"run_name\": \"StackEnsemble\", \"run_properties\": \"base_learners=[('11',\\n                                        Pipeline(memory=None,\\n                                                 steps=[('robustscaler',\\n                                                         RobustScaler(copy=True,\\n                                                                      quantile_range=[10,\\n                                                                                      90],\\n                                                                      with_centering=True,\\n                                                                      with_scaling=False\", \"primary_metric\": 0.99606061, \"best_metric\": 0.99863636}], \"children_metrics\": {\"categories\": [0], \"series\": {\"recall_score_weighted\": [{\"categories\": [\"0\", \"1\", \"2\", \"3\", \"4\", \"5\", \"6\", \"7\", \"8\", \"9\", \"10\", \"11\", \"12\", \"13\", \"14\"], \"mode\": \"markers\", \"name\": \"recall_score_weighted\", \"stepped\": false, \"type\": \"scatter\", \"data\": [0.9454545454545455, 0.9454545454545455, 0.9636363636363636, 0.9545454545454547, 0.9636363636363636, 0.9454545454545453, 0.9454545454545453, 0.9636363636363636, 0.9545454545454547, 0.9818181818181818, 0.9454545454545455, 0.9363636363636363, 0.9636363636363636, 0.9636363636363636, 0.8363636363636363]}, {\"categories\": [\"0\", \"1\", \"2\", \"3\", \"4\", \"5\", \"6\", \"7\", \"8\", \"9\", \"10\", \"11\", \"12\", \"13\", \"14\"], \"mode\": \"lines\", \"name\": \"recall_score_weighted_max\", \"stepped\": true, \"type\": \"scatter\", \"data\": [0.9454545454545455, 0.9454545454545455, 0.9636363636363636, 0.9636363636363636, 0.9636363636363636, 0.9636363636363636, 0.9636363636363636, 0.9636363636363636, 0.9636363636363636, 0.9818181818181818, 0.9818181818181818, 0.9818181818181818, 0.9818181818181818, 0.9818181818181818, 0.9818181818181818]}], \"f1_score_weighted\": [{\"categories\": [\"0\", \"1\", \"2\", \"3\", \"4\", \"5\", \"6\", \"7\", \"8\", \"9\", \"10\", \"11\", \"12\", \"13\", \"14\"], \"mode\": \"markers\", \"name\": \"f1_score_weighted\", \"stepped\": false, \"type\": \"scatter\", \"data\": [0.9448580627865739, 0.9454490507459828, 0.9635217520384984, 0.9543485722770834, 0.9633062812347923, 0.9449000197663299, 0.9455887250004897, 0.9635217520384984, 0.9543485722770834, 0.9811294765840219, 0.9448348833516297, 0.9360750360750361, 0.9635217520384984, 0.9633062812347923, 0.8031172140477535]}, {\"categories\": [\"0\", \"1\", \"2\", \"3\", \"4\", \"5\", \"6\", \"7\", \"8\", \"9\", \"10\", \"11\", \"12\", \"13\", \"14\"], \"mode\": \"lines\", \"name\": \"f1_score_weighted_max\", \"stepped\": true, \"type\": \"scatter\", \"data\": [0.9448580627865739, 0.9454490507459828, 0.9635217520384984, 0.9635217520384984, 0.9635217520384984, 0.9635217520384984, 0.9635217520384984, 0.9635217520384984, 0.9635217520384984, 0.9811294765840219, 0.9811294765840219, 0.9811294765840219, 0.9811294765840219, 0.9811294765840219, 0.9811294765840219]}], \"AUC_micro\": [{\"categories\": [\"0\", \"1\", \"2\", \"3\", \"4\", \"5\", \"6\", \"7\", \"8\", \"9\", \"10\", \"11\", \"12\", \"13\", \"14\"], \"mode\": \"markers\", \"name\": \"AUC_micro\", \"stepped\": false, \"type\": \"scatter\", \"data\": [0.9830578512396695, 0.9869834710743802, 0.9820247933884296, 0.996900826446281, 0.9953512396694215, 0.9940082644628099, 0.9768595041322314, 0.9973140495867769, 0.993801652892562, 0.9975206611570246, 0.9942148760330578, 0.9944214876033058, 0.9882231404958677, 0.9979338842975206, 0.9132231404958677]}, {\"categories\": [\"0\", \"1\", \"2\", \"3\", \"4\", \"5\", \"6\", \"7\", \"8\", \"9\", \"10\", \"11\", \"12\", \"13\", \"14\"], \"mode\": \"lines\", \"name\": \"AUC_micro_max\", \"stepped\": true, \"type\": \"scatter\", \"data\": [0.9830578512396695, 0.9869834710743802, 0.9869834710743802, 0.996900826446281, 0.996900826446281, 0.996900826446281, 0.996900826446281, 0.9973140495867769, 0.9973140495867769, 0.9975206611570246, 0.9975206611570246, 0.9975206611570246, 0.9975206611570246, 0.9979338842975206, 0.9979338842975206]}], \"recall_score_macro\": [{\"categories\": [\"0\", \"1\", \"2\", \"3\", \"4\", \"5\", \"6\", \"7\", \"8\", \"9\", \"10\", \"11\", \"12\", \"13\", \"14\"], \"mode\": \"markers\", \"name\": \"recall_score_macro\", \"stepped\": false, \"type\": \"scatter\", \"data\": [0.9447619047619048, 0.9476190476190476, 0.9638095238095238, 0.9542857142857143, 0.9609523809523809, 0.9447619047619048, 0.9476190476190476, 0.9638095238095238, 0.9542857142857143, 0.980952380952381, 0.9447619047619048, 0.9380952380952381, 0.9638095238095238, 0.9609523809523809, 0.840952380952381]}, {\"categories\": [\"0\", \"1\", \"2\", \"3\", \"4\", \"5\", \"6\", \"7\", \"8\", \"9\", \"10\", \"11\", \"12\", \"13\", \"14\"], \"mode\": \"lines\", \"name\": \"recall_score_macro_max\", \"stepped\": true, \"type\": \"scatter\", \"data\": [0.9447619047619048, 0.9476190476190476, 0.9638095238095238, 0.9638095238095238, 0.9638095238095238, 0.9638095238095238, 0.9638095238095238, 0.9638095238095238, 0.9638095238095238, 0.980952380952381, 0.980952380952381, 0.980952380952381, 0.980952380952381, 0.980952380952381, 0.980952380952381]}], \"norm_macro_recall\": [{\"categories\": [\"0\", \"1\", \"2\", \"3\", \"4\", \"5\", \"6\", \"7\", \"8\", \"9\", \"10\", \"11\", \"12\", \"13\", \"14\"], \"mode\": \"markers\", \"name\": \"norm_macro_recall\", \"stepped\": false, \"type\": \"scatter\", \"data\": [0.917142857142857, 0.9214285714285714, 0.9457142857142855, 0.9314285714285713, 0.9414285714285713, 0.917142857142857, 0.9214285714285714, 0.9457142857142855, 0.9314285714285713, 0.9714285714285713, 0.9171428571428569, 0.9071428571428569, 0.9457142857142855, 0.9414285714285713, 0.7614285714285713]}, {\"categories\": [\"0\", \"1\", \"2\", \"3\", \"4\", \"5\", \"6\", \"7\", \"8\", \"9\", \"10\", \"11\", \"12\", \"13\", \"14\"], \"mode\": \"lines\", \"name\": \"norm_macro_recall_max\", \"stepped\": true, \"type\": \"scatter\", \"data\": [0.917142857142857, 0.9214285714285714, 0.9457142857142855, 0.9457142857142855, 0.9457142857142855, 0.9457142857142855, 0.9457142857142855, 0.9457142857142855, 0.9457142857142855, 0.9714285714285713, 0.9714285714285713, 0.9714285714285713, 0.9714285714285713, 0.9714285714285713, 0.9714285714285713]}], \"recall_score_micro\": [{\"categories\": [\"0\", \"1\", \"2\", \"3\", \"4\", \"5\", \"6\", \"7\", \"8\", \"9\", \"10\", \"11\", \"12\", \"13\", \"14\"], \"mode\": \"markers\", \"name\": \"recall_score_micro\", \"stepped\": false, \"type\": \"scatter\", \"data\": [0.9454545454545455, 0.9454545454545455, 0.9636363636363636, 0.9545454545454547, 0.9636363636363636, 0.9454545454545453, 0.9454545454545453, 0.9636363636363636, 0.9545454545454547, 0.9818181818181818, 0.9454545454545455, 0.9363636363636363, 0.9636363636363636, 0.9636363636363636, 0.8363636363636363]}, {\"categories\": [\"0\", \"1\", \"2\", \"3\", \"4\", \"5\", \"6\", \"7\", \"8\", \"9\", \"10\", \"11\", \"12\", \"13\", \"14\"], \"mode\": \"lines\", \"name\": \"recall_score_micro_max\", \"stepped\": true, \"type\": \"scatter\", \"data\": [0.9454545454545455, 0.9454545454545455, 0.9636363636363636, 0.9636363636363636, 0.9636363636363636, 0.9636363636363636, 0.9636363636363636, 0.9636363636363636, 0.9636363636363636, 0.9818181818181818, 0.9818181818181818, 0.9818181818181818, 0.9818181818181818, 0.9818181818181818, 0.9818181818181818]}], \"precision_score_macro\": [{\"categories\": [\"0\", \"1\", \"2\", \"3\", \"4\", \"5\", \"6\", \"7\", \"8\", \"9\", \"10\", \"11\", \"12\", \"13\", \"14\"], \"mode\": \"markers\", \"name\": \"precision_score_macro\", \"stepped\": false, \"type\": \"scatter\", \"data\": [0.9521885521885523, 0.9513468013468014, 0.9666378066378065, 0.9592303992303993, 0.9693602693602694, 0.9563732563732564, 0.9512938912938912, 0.9666378066378065, 0.9592303992303993, 0.9888888888888889, 0.9533044733044733, 0.9453679653679654, 0.9666378066378065, 0.9693602693602694, 0.7967676767676768]}, {\"categories\": [\"0\", \"1\", \"2\", \"3\", \"4\", \"5\", \"6\", \"7\", \"8\", \"9\", \"10\", \"11\", \"12\", \"13\", \"14\"], \"mode\": \"lines\", \"name\": \"precision_score_macro_max\", \"stepped\": true, \"type\": \"scatter\", \"data\": [0.9521885521885523, 0.9521885521885523, 0.9666378066378065, 0.9666378066378065, 0.9693602693602694, 0.9693602693602694, 0.9693602693602694, 0.9693602693602694, 0.9693602693602694, 0.9888888888888889, 0.9888888888888889, 0.9888888888888889, 0.9888888888888889, 0.9888888888888889, 0.9888888888888889]}], \"accuracy\": [{\"categories\": [\"0\", \"1\", \"2\", \"3\", \"4\", \"5\", \"6\", \"7\", \"8\", \"9\", \"10\", \"11\", \"12\", \"13\", \"14\"], \"mode\": \"markers\", \"name\": \"accuracy\", \"stepped\": false, \"type\": \"scatter\", \"data\": [0.9454545454545455, 0.9454545454545455, 0.9636363636363636, 0.9545454545454547, 0.9636363636363636, 0.9454545454545453, 0.9454545454545453, 0.9636363636363636, 0.9545454545454547, 0.9818181818181818, 0.9454545454545455, 0.9363636363636363, 0.9636363636363636, 0.9636363636363636, 0.8363636363636363]}, {\"categories\": [\"0\", \"1\", \"2\", \"3\", \"4\", \"5\", \"6\", \"7\", \"8\", \"9\", \"10\", \"11\", \"12\", \"13\", \"14\"], \"mode\": \"lines\", \"name\": \"accuracy_max\", \"stepped\": true, \"type\": \"scatter\", \"data\": [0.9454545454545455, 0.9454545454545455, 0.9636363636363636, 0.9636363636363636, 0.9636363636363636, 0.9636363636363636, 0.9636363636363636, 0.9636363636363636, 0.9636363636363636, 0.9818181818181818, 0.9818181818181818, 0.9818181818181818, 0.9818181818181818, 0.9818181818181818, 0.9818181818181818]}], \"f1_score_macro\": [{\"categories\": [\"0\", \"1\", \"2\", \"3\", \"4\", \"5\", \"6\", \"7\", \"8\", \"9\", \"10\", \"11\", \"12\", \"13\", \"14\"], \"mode\": \"markers\", \"name\": \"f1_score_macro\", \"stepped\": false, \"type\": \"scatter\", \"data\": [0.9458904127634777, 0.9469391885490956, 0.9636581352370825, 0.9546083614814265, 0.9624960293690943, 0.9446779799720975, 0.9456592209533385, 0.9636581352370825, 0.9546083614814265, 0.9828282828282827, 0.9451396167185641, 0.936190476190476, 0.9636581352370825, 0.9624960293690943, 0.8040960115370279]}, {\"categories\": [\"0\", \"1\", \"2\", \"3\", \"4\", \"5\", \"6\", \"7\", \"8\", \"9\", \"10\", \"11\", \"12\", \"13\", \"14\"], \"mode\": \"lines\", \"name\": \"f1_score_macro_max\", \"stepped\": true, \"type\": \"scatter\", \"data\": [0.9458904127634777, 0.9469391885490956, 0.9636581352370825, 0.9636581352370825, 0.9636581352370825, 0.9636581352370825, 0.9636581352370825, 0.9636581352370825, 0.9636581352370825, 0.9828282828282827, 0.9828282828282827, 0.9828282828282827, 0.9828282828282827, 0.9828282828282827, 0.9828282828282827]}], \"log_loss\": [{\"categories\": [\"0\", \"1\", \"2\", \"3\", \"4\", \"5\", \"6\", \"7\", \"8\", \"9\", \"10\", \"11\", \"12\", \"13\", \"14\"], \"mode\": \"markers\", \"name\": \"log_loss\", \"stepped\": false, \"type\": \"scatter\", \"data\": [0.21154768358805992, 0.18074693203040765, 0.7053296409228177, 0.12969978406151594, 0.12911859931801478, 0.16412361759920574, 0.9925332064758138, 0.13539349446285637, 0.19667928663687176, 0.07059889716232222, 0.15543469198471507, 0.1921480857664032, 0.1760352497153121, 0.13999589968440979, 0.33169169137872656]}, {\"categories\": [\"0\", \"1\", \"2\", \"3\", \"4\", \"5\", \"6\", \"7\", \"8\", \"9\", \"10\", \"11\", \"12\", \"13\", \"14\"], \"mode\": \"lines\", \"name\": \"log_loss_min\", \"stepped\": true, \"type\": \"scatter\", \"data\": [0.21154768358805992, 0.18074693203040765, 0.18074693203040765, 0.12969978406151594, 0.12911859931801478, 0.12911859931801478, 0.12911859931801478, 0.12911859931801478, 0.12911859931801478, 0.07059889716232222, 0.07059889716232222, 0.07059889716232222, 0.07059889716232222, 0.07059889716232222, 0.07059889716232222]}], \"matthews_correlation\": [{\"categories\": [\"0\", \"1\", \"2\", \"3\", \"4\", \"5\", \"6\", \"7\", \"8\", \"9\", \"10\", \"11\", \"12\", \"13\", \"14\"], \"mode\": \"markers\", \"name\": \"matthews_correlation\", \"stepped\": false, \"type\": \"scatter\", \"data\": [0.9172682820612744, 0.9180750692098354, 0.9444727359246154, 0.9313513859338933, 0.9460289093290761, 0.9212438856583102, 0.9194270789331984, 0.9444727359246154, 0.9313513859338933, 0.9734297099509182, 0.9191877771263386, 0.9072634701256437, 0.9444727359246154, 0.9460289093290761, 0.761354389404141]}, {\"categories\": [\"0\", \"1\", \"2\", \"3\", \"4\", \"5\", \"6\", \"7\", \"8\", \"9\", \"10\", \"11\", \"12\", \"13\", \"14\"], \"mode\": \"lines\", \"name\": \"matthews_correlation_max\", \"stepped\": true, \"type\": \"scatter\", \"data\": [0.9172682820612744, 0.9180750692098354, 0.9444727359246154, 0.9444727359246154, 0.9460289093290761, 0.9460289093290761, 0.9460289093290761, 0.9460289093290761, 0.9460289093290761, 0.9734297099509182, 0.9734297099509182, 0.9734297099509182, 0.9734297099509182, 0.9734297099509182, 0.9734297099509182]}], \"average_precision_score_weighted\": [{\"categories\": [\"0\", \"1\", \"2\", \"3\", \"4\", \"5\", \"6\", \"7\", \"8\", \"9\", \"10\", \"11\", \"12\", \"13\", \"14\"], \"mode\": \"markers\", \"name\": \"average_precision_score_weighted\", \"stepped\": false, \"type\": \"scatter\", \"data\": [0.9774170274170274, 0.9878976366536175, 0.9631136035681489, 0.993902662993572, 0.9913957759412305, 0.9886829332283877, 0.9540656565656566, 0.9956955922865014, 0.9892168437622983, 0.9980371900826446, 0.993902662993572, 0.9980371900826446, 0.977257313393677, 0.9980371900826446, 0.9949586776859503]}, {\"categories\": [\"0\", \"1\", \"2\", \"3\", \"4\", \"5\", \"6\", \"7\", \"8\", \"9\", \"10\", \"11\", \"12\", \"13\", \"14\"], \"mode\": \"lines\", \"name\": \"average_precision_score_weighted_max\", \"stepped\": true, \"type\": \"scatter\", \"data\": [0.9774170274170274, 0.9878976366536175, 0.9878976366536175, 0.993902662993572, 0.993902662993572, 0.993902662993572, 0.993902662993572, 0.9956955922865014, 0.9956955922865014, 0.9980371900826446, 0.9980371900826446, 0.9980371900826446, 0.9980371900826446, 0.9980371900826446, 0.9980371900826446]}], \"weighted_accuracy\": [{\"categories\": [\"0\", \"1\", \"2\", \"3\", \"4\", \"5\", \"6\", \"7\", \"8\", \"9\", \"10\", \"11\", \"12\", \"13\", \"14\"], \"mode\": \"markers\", \"name\": \"weighted_accuracy\", \"stepped\": false, \"type\": \"scatter\", \"data\": [0.9465304384844615, 0.9430821626223926, 0.9632183908045977, 0.9545764154959558, 0.9660706683695188, 0.9465304384844615, 0.9430821626223926, 0.9632183908045977, 0.9545764154959558, 0.9839080459770114, 0.9459344401873138, 0.9344401873137504, 0.9632183908045977, 0.9660706683695188, 0.8275436355896126]}, {\"categories\": [\"0\", \"1\", \"2\", \"3\", \"4\", \"5\", \"6\", \"7\", \"8\", \"9\", \"10\", \"11\", \"12\", \"13\", \"14\"], \"mode\": \"lines\", \"name\": \"weighted_accuracy_max\", \"stepped\": true, \"type\": \"scatter\", \"data\": [0.9465304384844615, 0.9465304384844615, 0.9632183908045977, 0.9632183908045977, 0.9660706683695188, 0.9660706683695188, 0.9660706683695188, 0.9660706683695188, 0.9660706683695188, 0.9839080459770114, 0.9839080459770114, 0.9839080459770114, 0.9839080459770114, 0.9839080459770114, 0.9839080459770114]}], \"precision_score_weighted\": [{\"categories\": [\"0\", \"1\", \"2\", \"3\", \"4\", \"5\", \"6\", \"7\", \"8\", \"9\", \"10\", \"11\", \"12\", \"13\", \"14\"], \"mode\": \"markers\", \"name\": \"precision_score_weighted\", \"stepped\": false, \"type\": \"scatter\", \"data\": [0.9489439853076217, 0.9500688705234159, 0.9659779614325068, 0.9578971533516988, 0.9678145087235995, 0.9555162009707464, 0.9524858979404434, 0.9659779614325068, 0.9578971533516988, 0.9848484848484848, 0.9514325068870523, 0.946021251475797, 0.9659779614325068, 0.9678145087235995, 0.7981267217630854]}, {\"categories\": [\"0\", \"1\", \"2\", \"3\", \"4\", \"5\", \"6\", \"7\", \"8\", \"9\", \"10\", \"11\", \"12\", \"13\", \"14\"], \"mode\": \"lines\", \"name\": \"precision_score_weighted_max\", \"stepped\": true, \"type\": \"scatter\", \"data\": [0.9489439853076217, 0.9500688705234159, 0.9659779614325068, 0.9659779614325068, 0.9678145087235995, 0.9678145087235995, 0.9678145087235995, 0.9678145087235995, 0.9678145087235995, 0.9848484848484848, 0.9848484848484848, 0.9848484848484848, 0.9848484848484848, 0.9848484848484848, 0.9848484848484848]}], \"precision_score_micro\": [{\"categories\": [\"0\", \"1\", \"2\", \"3\", \"4\", \"5\", \"6\", \"7\", \"8\", \"9\", \"10\", \"11\", \"12\", \"13\", \"14\"], \"mode\": \"markers\", \"name\": \"precision_score_micro\", \"stepped\": false, \"type\": \"scatter\", \"data\": [0.9454545454545455, 0.9454545454545455, 0.9636363636363636, 0.9545454545454547, 0.9636363636363636, 0.9454545454545453, 0.9454545454545453, 0.9636363636363636, 0.9545454545454547, 0.9818181818181818, 0.9454545454545455, 0.9363636363636363, 0.9636363636363636, 0.9636363636363636, 0.8363636363636363]}, {\"categories\": [\"0\", \"1\", \"2\", \"3\", \"4\", \"5\", \"6\", \"7\", \"8\", \"9\", \"10\", \"11\", \"12\", \"13\", \"14\"], \"mode\": \"lines\", \"name\": \"precision_score_micro_max\", \"stepped\": true, \"type\": \"scatter\", \"data\": [0.9454545454545455, 0.9454545454545455, 0.9636363636363636, 0.9636363636363636, 0.9636363636363636, 0.9636363636363636, 0.9636363636363636, 0.9636363636363636, 0.9636363636363636, 0.9818181818181818, 0.9818181818181818, 0.9818181818181818, 0.9818181818181818, 0.9818181818181818, 0.9818181818181818]}], \"average_precision_score_macro\": [{\"categories\": [\"0\", \"1\", \"2\", \"3\", \"4\", \"5\", \"6\", \"7\", \"8\", \"9\", \"10\", \"11\", \"12\", \"13\", \"14\"], \"mode\": \"markers\", \"name\": \"average_precision_score_macro\", \"stepped\": false, \"type\": \"scatter\", \"data\": [0.9755706727135298, 0.9878233462443988, 0.9593109324537895, 0.9937825877825878, 0.9906108706108707, 0.9882132893561465, 0.9527708032708034, 0.9953751803751804, 0.9889222840651412, 0.9982034632034633, 0.9937825877825877, 0.9982034632034633, 0.9762789459218031, 0.9982034632034631, 0.9952640692640692]}, {\"categories\": [\"0\", \"1\", \"2\", \"3\", \"4\", \"5\", \"6\", \"7\", \"8\", \"9\", \"10\", \"11\", \"12\", \"13\", \"14\"], \"mode\": \"lines\", \"name\": \"average_precision_score_macro_max\", \"stepped\": true, \"type\": \"scatter\", \"data\": [0.9755706727135298, 0.9878233462443988, 0.9878233462443988, 0.9937825877825878, 0.9937825877825878, 0.9937825877825878, 0.9937825877825878, 0.9953751803751804, 0.9953751803751804, 0.9982034632034633, 0.9982034632034633, 0.9982034632034633, 0.9982034632034633, 0.9982034632034633, 0.9982034632034633]}], \"f1_score_micro\": [{\"categories\": [\"0\", \"1\", \"2\", \"3\", \"4\", \"5\", \"6\", \"7\", \"8\", \"9\", \"10\", \"11\", \"12\", \"13\", \"14\"], \"mode\": \"markers\", \"name\": \"f1_score_micro\", \"stepped\": false, \"type\": \"scatter\", \"data\": [0.9454545454545455, 0.9454545454545455, 0.9636363636363636, 0.9545454545454547, 0.9636363636363636, 0.9454545454545453, 0.9454545454545453, 0.9636363636363636, 0.9545454545454547, 0.9818181818181818, 0.9454545454545455, 0.9363636363636363, 0.9636363636363636, 0.9636363636363636, 0.8363636363636363]}, {\"categories\": [\"0\", \"1\", \"2\", \"3\", \"4\", \"5\", \"6\", \"7\", \"8\", \"9\", \"10\", \"11\", \"12\", \"13\", \"14\"], \"mode\": \"lines\", \"name\": \"f1_score_micro_max\", \"stepped\": true, \"type\": \"scatter\", \"data\": [0.9454545454545455, 0.9454545454545455, 0.9636363636363636, 0.9636363636363636, 0.9636363636363636, 0.9636363636363636, 0.9636363636363636, 0.9636363636363636, 0.9636363636363636, 0.9818181818181818, 0.9818181818181818, 0.9818181818181818, 0.9818181818181818, 0.9818181818181818, 0.9818181818181818]}], \"AUC_weighted\": [{\"categories\": [\"0\", \"1\", \"2\", \"3\", \"4\", \"5\", \"6\", \"7\", \"8\", \"9\", \"10\", \"11\", \"12\", \"13\", \"14\"], \"mode\": \"markers\", \"name\": \"AUC_weighted\", \"stepped\": false, \"type\": \"scatter\", \"data\": [0.9834670231729055, 0.9887789661319072, 0.9804367201426025, 0.9959803921568628, 0.9946880570409983, 0.9934001782531194, 0.9750623885918003, 0.9979901960784314, 0.9927183600713013, 0.9986363636363637, 0.9959803921568628, 0.9986363636363637, 0.9854233511586454, 0.9986363636363637, 0.9960606060606061]}, {\"categories\": [\"0\", \"1\", \"2\", \"3\", \"4\", \"5\", \"6\", \"7\", \"8\", \"9\", \"10\", \"11\", \"12\", \"13\", \"14\"], \"mode\": \"lines\", \"name\": \"AUC_weighted_max\", \"stepped\": true, \"type\": \"scatter\", \"data\": [0.9834670231729055, 0.9887789661319072, 0.9887789661319072, 0.9959803921568628, 0.9959803921568628, 0.9959803921568628, 0.9959803921568628, 0.9979901960784314, 0.9979901960784314, 0.9986363636363637, 0.9986363636363637, 0.9986363636363637, 0.9986363636363637, 0.9986363636363637, 0.9986363636363637]}], \"average_precision_score_micro\": [{\"categories\": [\"0\", \"1\", \"2\", \"3\", \"4\", \"5\", \"6\", \"7\", \"8\", \"9\", \"10\", \"11\", \"12\", \"13\", \"14\"], \"mode\": \"markers\", \"name\": \"average_precision_score_micro\", \"stepped\": false, \"type\": \"scatter\", \"data\": [0.9672745407558363, 0.9739728647603805, 0.9615957536172847, 0.9941958923816632, 0.9905124360670868, 0.9883721950143837, 0.94965428565725, 0.9946108265910638, 0.988612538760656, 0.995420674045076, 0.9892362813626596, 0.9896673331830392, 0.9769982299272563, 0.9961016546036309, 0.9030331612252501]}, {\"categories\": [\"0\", \"1\", \"2\", \"3\", \"4\", \"5\", \"6\", \"7\", \"8\", \"9\", \"10\", \"11\", \"12\", \"13\", \"14\"], \"mode\": \"lines\", \"name\": \"average_precision_score_micro_max\", \"stepped\": true, \"type\": \"scatter\", \"data\": [0.9672745407558363, 0.9739728647603805, 0.9739728647603805, 0.9941958923816632, 0.9941958923816632, 0.9941958923816632, 0.9941958923816632, 0.9946108265910638, 0.9946108265910638, 0.995420674045076, 0.995420674045076, 0.995420674045076, 0.995420674045076, 0.9961016546036309, 0.9961016546036309]}], \"balanced_accuracy\": [{\"categories\": [\"0\", \"1\", \"2\", \"3\", \"4\", \"5\", \"6\", \"7\", \"8\", \"9\", \"10\", \"11\", \"12\", \"13\", \"14\"], \"mode\": \"markers\", \"name\": \"balanced_accuracy\", \"stepped\": false, \"type\": \"scatter\", \"data\": [0.9447619047619048, 0.9476190476190476, 0.9638095238095238, 0.9542857142857143, 0.9609523809523809, 0.9447619047619048, 0.9476190476190476, 0.9638095238095238, 0.9542857142857143, 0.980952380952381, 0.9447619047619048, 0.9380952380952381, 0.9638095238095238, 0.9609523809523809, 0.840952380952381]}, {\"categories\": [\"0\", \"1\", \"2\", \"3\", \"4\", \"5\", \"6\", \"7\", \"8\", \"9\", \"10\", \"11\", \"12\", \"13\", \"14\"], \"mode\": \"lines\", \"name\": \"balanced_accuracy_max\", \"stepped\": true, \"type\": \"scatter\", \"data\": [0.9447619047619048, 0.9476190476190476, 0.9638095238095238, 0.9638095238095238, 0.9638095238095238, 0.9638095238095238, 0.9638095238095238, 0.9638095238095238, 0.9638095238095238, 0.980952380952381, 0.980952380952381, 0.980952380952381, 0.980952380952381, 0.980952380952381, 0.980952380952381]}], \"AUC_macro\": [{\"categories\": [\"0\", \"1\", \"2\", \"3\", \"4\", \"5\", \"6\", \"7\", \"8\", \"9\", \"10\", \"11\", \"12\", \"13\", \"14\"], \"mode\": \"markers\", \"name\": \"AUC_macro\", \"stepped\": false, \"type\": \"scatter\", \"data\": [0.9853548085901027, 0.9904154995331467, 0.9802754435107376, 0.996279178338002, 0.9949393090569562, 0.9937091503267974, 0.9755835667600372, 0.998139589169001, 0.9931139122315592, 0.9988095238095237, 0.996279178338002, 0.9988095238095237, 0.9858986928104574, 0.9988095238095237, 0.9963492063492063]}, {\"categories\": [\"0\", \"1\", \"2\", \"3\", \"4\", \"5\", \"6\", \"7\", \"8\", \"9\", \"10\", \"11\", \"12\", \"13\", \"14\"], \"mode\": \"lines\", \"name\": \"AUC_macro_max\", \"stepped\": true, \"type\": \"scatter\", \"data\": [0.9853548085901027, 0.9904154995331467, 0.9904154995331467, 0.996279178338002, 0.996279178338002, 0.996279178338002, 0.996279178338002, 0.998139589169001, 0.998139589169001, 0.9988095238095237, 0.9988095238095237, 0.9988095238095237, 0.9988095238095237, 0.9988095238095237, 0.9988095238095237]}]}, \"metricName\": null, \"primaryMetricName\": \"AUC_weighted\", \"showLegend\": false}, \"run_metrics\": [{\"name\": \"experiment_status\", \"run_id\": \"AutoML_908933ad-fabd-4e6f-a3f9-3f39d1df9df7\", \"categories\": [0, 1, 2, 3, 4, 5, 6, 7, 8, 9, 10, 11, 12, 13], \"series\": [{\"data\": [\"DatasetEvaluation\", \"FeaturesGeneration\", \"DatasetFeaturization\", \"DatasetFeaturizationCompleted\", \"DatasetCrossValidationSplit\", \"ModelSelection\", \"BestRunExplainModel\", \"ModelExplanationDataSetSetup\", \"PickSurrogateModel\", \"EngineeredFeatureExplanations\", \"EngineeredFeatureExplanations\", \"RawFeaturesExplanations\", \"RawFeaturesExplanations\", \"BestRunExplainModel\"]}]}, {\"name\": \"experiment_status_description\", \"run_id\": \"AutoML_908933ad-fabd-4e6f-a3f9-3f39d1df9df7\", \"categories\": [0, 1, 2, 3, 4, 5, 6, 7, 8, 9, 10, 11, 12, 13], \"series\": [{\"data\": [\"Gathering dataset statistics.\", \"Generating features for the dataset.\", \"Beginning to fit featurizers and featurize the dataset.\", \"Completed fit featurizers and featurizing the dataset.\", \"Generating individually featurized CV splits.\", \"Beginning model selection.\", \"Best run model explanations started\", \"Model explanations data setup completed\", \"Choosing LightGBM as the surrogate model for explanations\", \"Computation of engineered features started\", \"Computation of engineered features completed\", \"Computation of raw features started\", \"Computation of raw features completed\", \"Best run model explanations completed\"]}]}, {\"name\": \"weighted_accuracy\", \"run_id\": \"AutoML_908933ad-fabd-4e6f-a3f9-3f39d1df9df7\", \"categories\": [0], \"series\": [{\"data\": [0.9344401873137504]}]}, {\"name\": \"AUC_weighted\", \"run_id\": \"AutoML_908933ad-fabd-4e6f-a3f9-3f39d1df9df7\", \"categories\": [0], \"series\": [{\"data\": [0.9986363636363637]}]}, {\"name\": \"precision_score_weighted\", \"run_id\": \"AutoML_908933ad-fabd-4e6f-a3f9-3f39d1df9df7\", \"categories\": [0], \"series\": [{\"data\": [0.946021251475797]}]}, {\"name\": \"recall_score_weighted\", \"run_id\": \"AutoML_908933ad-fabd-4e6f-a3f9-3f39d1df9df7\", \"categories\": [0], \"series\": [{\"data\": [0.9363636363636363]}]}, {\"name\": \"balanced_accuracy\", \"run_id\": \"AutoML_908933ad-fabd-4e6f-a3f9-3f39d1df9df7\", \"categories\": [0], \"series\": [{\"data\": [0.9380952380952381]}]}, {\"name\": \"f1_score_micro\", \"run_id\": \"AutoML_908933ad-fabd-4e6f-a3f9-3f39d1df9df7\", \"categories\": [0], \"series\": [{\"data\": [0.9363636363636363]}]}, {\"name\": \"norm_macro_recall\", \"run_id\": \"AutoML_908933ad-fabd-4e6f-a3f9-3f39d1df9df7\", \"categories\": [0], \"series\": [{\"data\": [0.9071428571428569]}]}, {\"name\": \"accuracy\", \"run_id\": \"AutoML_908933ad-fabd-4e6f-a3f9-3f39d1df9df7\", \"categories\": [0], \"series\": [{\"data\": [0.9363636363636363]}]}, {\"name\": \"f1_score_macro\", \"run_id\": \"AutoML_908933ad-fabd-4e6f-a3f9-3f39d1df9df7\", \"categories\": [0], \"series\": [{\"data\": [0.936190476190476]}]}, {\"name\": \"recall_score_macro\", \"run_id\": \"AutoML_908933ad-fabd-4e6f-a3f9-3f39d1df9df7\", \"categories\": [0], \"series\": [{\"data\": [0.9380952380952381]}]}, {\"name\": \"precision_score_micro\", \"run_id\": \"AutoML_908933ad-fabd-4e6f-a3f9-3f39d1df9df7\", \"categories\": [0], \"series\": [{\"data\": [0.9363636363636363]}]}, {\"name\": \"AUC_macro\", \"run_id\": \"AutoML_908933ad-fabd-4e6f-a3f9-3f39d1df9df7\", \"categories\": [0], \"series\": [{\"data\": [0.9988095238095237]}]}, {\"name\": \"average_precision_score_weighted\", \"run_id\": \"AutoML_908933ad-fabd-4e6f-a3f9-3f39d1df9df7\", \"categories\": [0], \"series\": [{\"data\": [0.9980371900826446]}]}, {\"name\": \"AUC_micro\", \"run_id\": \"AutoML_908933ad-fabd-4e6f-a3f9-3f39d1df9df7\", \"categories\": [0], \"series\": [{\"data\": [0.9944214876033058]}]}, {\"name\": \"average_precision_score_macro\", \"run_id\": \"AutoML_908933ad-fabd-4e6f-a3f9-3f39d1df9df7\", \"categories\": [0], \"series\": [{\"data\": [0.9982034632034633]}]}, {\"name\": \"matthews_correlation\", \"run_id\": \"AutoML_908933ad-fabd-4e6f-a3f9-3f39d1df9df7\", \"categories\": [0], \"series\": [{\"data\": [0.9072634701256437]}]}, {\"name\": \"recall_score_micro\", \"run_id\": \"AutoML_908933ad-fabd-4e6f-a3f9-3f39d1df9df7\", \"categories\": [0], \"series\": [{\"data\": [0.9363636363636363]}]}, {\"name\": \"average_precision_score_micro\", \"run_id\": \"AutoML_908933ad-fabd-4e6f-a3f9-3f39d1df9df7\", \"categories\": [0], \"series\": [{\"data\": [0.9896673331830392]}]}, {\"name\": \"precision_score_macro\", \"run_id\": \"AutoML_908933ad-fabd-4e6f-a3f9-3f39d1df9df7\", \"categories\": [0], \"series\": [{\"data\": [0.9453679653679654]}]}, {\"name\": \"log_loss\", \"run_id\": \"AutoML_908933ad-fabd-4e6f-a3f9-3f39d1df9df7\", \"categories\": [0], \"series\": [{\"data\": [0.1921480857664032]}]}, {\"name\": \"f1_score_weighted\", \"run_id\": \"AutoML_908933ad-fabd-4e6f-a3f9-3f39d1df9df7\", \"categories\": [0], \"series\": [{\"data\": [0.9360750360750361]}]}], \"run_logs\": \"\\nRun is completed.\", \"graph\": {}, \"widget_settings\": {\"childWidgetDisplay\": \"popup\", \"send_telemetry\": false, \"log_level\": \"INFO\", \"sdk_version\": \"1.21.0\"}, \"loading\": false}"
     },
     "metadata": {},
     "output_type": "display_data"
    }
   ],
   "source": [
    "from azureml.widgets import RunDetails\n",
    "RunDetails(run).show()"
   ]
  },
  {
   "cell_type": "code",
   "execution_count": 16,
   "metadata": {},
   "outputs": [
    {
     "name": "stdout",
     "output_type": "stream",
     "text": [
      "Run Timing: --- 1345.0 seconds needed for running the whole Remote AutoML Experiment ---\n"
     ]
    }
   ],
   "source": [
    "import time\n",
    "import datetime as dt\n",
    "\n",
    "run_details = run.get_details()\n",
    "\n",
    "# Like: 2020-01-12T23:11:56.292703Z\n",
    "end_time_utc_str = run_details['endTimeUtc'].split(\".\")[0]\n",
    "start_time_utc_str = run_details['startTimeUtc'].split(\".\")[0]\n",
    "timestamp_end = time.mktime(datetime.strptime(end_time_utc_str, \"%Y-%m-%dT%H:%M:%S\").timetuple())\n",
    "timestamp_start = time.mktime(datetime.strptime(start_time_utc_str, \"%Y-%m-%dT%H:%M:%S\").timetuple())\n",
    "\n",
    "parent_run_time = timestamp_end - timestamp_start\n",
    "print('Run Timing: --- %s seconds needed for running the whole Remote AutoML Experiment ---' % (parent_run_time))"
   ]
  },
  {
   "cell_type": "markdown",
   "metadata": {},
   "source": [
    "Sprawdzenie, wydzielenie najlepszego uzyskanego modelu."
   ]
  },
  {
   "cell_type": "code",
   "execution_count": 17,
   "metadata": {},
   "outputs": [
    {
     "name": "stdout",
     "output_type": "stream",
     "text": [
      "Run(Experiment: classif-find-species-01-27-2021-01,\n",
      "Id: AutoML_908933ad-fabd-4e6f-a3f9-3f39d1df9df7_11,\n",
      "Type: azureml.scriptrun,\n",
      "Status: Completed)\n",
      "Pipeline(memory=None,\n",
      "         steps=[('datatransformer',\n",
      "                 DataTransformer(enable_dnn=None, enable_feature_sweeping=None,\n",
      "                                 feature_sweeping_config=None,\n",
      "                                 feature_sweeping_timeout=None,\n",
      "                                 featurization_config=None, force_text_dnn=None,\n",
      "                                 is_cross_validation=None,\n",
      "                                 is_onnx_compatible=None, logger=None,\n",
      "                                 observer=None, task=None, working_dir=None)),\n",
      "                ('RobustScaler',\n",
      "                 RobustScaler(copy...\n",
      "                 ExtraTreesClassifier(bootstrap=True, ccp_alpha=0.0,\n",
      "                                      class_weight=None, criterion='entropy',\n",
      "                                      max_depth=None, max_features=0.5,\n",
      "                                      max_leaf_nodes=None, max_samples=None,\n",
      "                                      min_impurity_decrease=0.0,\n",
      "                                      min_impurity_split=None,\n",
      "                                      min_samples_leaf=0.01,\n",
      "                                      min_samples_split=0.15052631578947367,\n",
      "                                      min_weight_fraction_leaf=0.0,\n",
      "                                      n_estimators=25, n_jobs=1,\n",
      "                                      oob_score=False, random_state=None,\n",
      "                                      verbose=0, warm_start=False))],\n",
      "         verbose=False)\n",
      "Y_transformer(['LabelEncoder', LabelEncoder()])\n"
     ]
    }
   ],
   "source": [
    "best_run, fitted_model = run.get_output()\n",
    "print(best_run)\n",
    "print(fitted_model)"
   ]
  },
  {
   "cell_type": "markdown",
   "metadata": {},
   "source": [
    "Teraz czas na testy. Z testowej tabeli należy usunąć dane, które mówią nam jaki to gatunek, czyli musimy usunąć kolumną label z danych testowych."
   ]
  },
  {
   "cell_type": "code",
   "execution_count": 20,
   "metadata": {},
   "outputs": [],
   "source": [
    "import pandas as pd\n",
    "\n",
    "#Remove Label/y column\n",
    "if 'label' in test_dataset_df.columns:\n",
    "    y_test_df = test_dataset_df.pop('label')\n",
    "\n",
    "x_test_df = test_dataset_df"
   ]
  },
  {
   "cell_type": "markdown",
   "metadata": {},
   "source": [
    "Następnie sprawdzamy jak nasz wytrenowany model poradzi sobie z testowymi danymi. Wyświetlamy 10 pierwszych wygenerowanych gatunków, które nasz algorytm sklasyfikował i myśli, że są poprawne. Łącznie przetestował 40 próbek."
   ]
  },
  {
   "cell_type": "code",
   "execution_count": 21,
   "metadata": {},
   "outputs": [
    {
     "name": "stdout",
     "output_type": "stream",
     "text": [
      "10 predictions: \n",
      "['Iris-setosa' 'Iris-setosa' 'Iris-setosa' 'Iris-setosa' 'Iris-setosa'\n",
      " 'Iris-setosa' 'Iris-setosa' 'Iris-setosa' 'Iris-setosa' 'Iris-setosa']\n"
     ]
    }
   ],
   "source": [
    "# Try the best model\n",
    "y_predictions = fitted_model.predict(x_test_df)\n",
    "\n",
    "print('10 predictions: ')\n",
    "print(y_predictions[:10])"
   ]
  },
  {
   "cell_type": "code",
   "execution_count": 22,
   "metadata": {},
   "outputs": [
    {
     "data": {
      "text/plain": [
       "(40,)"
      ]
     },
     "execution_count": 22,
     "metadata": {},
     "output_type": "execute_result"
    }
   ],
   "source": [
    "y_predictions.shape"
   ]
  },
  {
   "cell_type": "markdown",
   "metadata": {},
   "source": [
    "Na samym końcu chcemy się dowiedzieć jak dobrze nasz model został wyuczony, odliczamy więc jego dokładność, która jak wynik pokazuje wynosi 97%. Jest to bardzo zadowalający wynik."
   ]
  },
  {
   "cell_type": "code",
   "execution_count": 23,
   "metadata": {
    "scrolled": true
   },
   "outputs": [
    {
     "name": "stdout",
     "output_type": "stream",
     "text": [
      "label:\n"
     ]
    },
    {
     "data": {
      "text/plain": [
       "0.975"
      ]
     },
     "execution_count": 23,
     "metadata": {},
     "output_type": "execute_result"
    }
   ],
   "source": [
    "from sklearn.metrics import accuracy_score\n",
    "\n",
    "print('label:')\n",
    "accuracy_score(y_test_df, y_predictions)"
   ]
  },
  {
   "cell_type": "markdown",
   "metadata": {},
   "source": [
    "Na koncu odbieramy 5 sekundową pochwałę wzrokową szefa ;)."
   ]
  }
 ],
 "metadata": {
  "kernelspec": {
   "display_name": "Python 3",
   "language": "python",
   "name": "python3"
  },
  "language_info": {
   "codemirror_mode": {
    "name": "ipython",
    "version": 3
   },
   "file_extension": ".py",
   "mimetype": "text/x-python",
   "name": "python",
   "nbconvert_exporter": "python",
   "pygments_lexer": "ipython3",
   "version": "3.7.9"
  }
 },
 "nbformat": 4,
 "nbformat_minor": 4
}
